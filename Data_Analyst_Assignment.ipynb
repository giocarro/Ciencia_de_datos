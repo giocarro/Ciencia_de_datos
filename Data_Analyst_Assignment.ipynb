{
  "cells": [
    {
      "cell_type": "markdown",
      "metadata": {
        "id": "view-in-github",
        "colab_type": "text"
      },
      "source": [
        "<a href=\"https://colab.research.google.com/github/giocarro/Colab/blob/main/Data_Analyst_Assignment.ipynb\" target=\"_parent\"><img src=\"https://colab.research.google.com/assets/colab-badge.svg\" alt=\"Open In Colab\"/></a>"
      ]
    },
    {
      "cell_type": "markdown",
      "metadata": {
        "id": "aLnNZc0IvUn3"
      },
      "source": [
        "#Data Analyst Interview Notebook"
      ]
    },
    {
      "cell_type": "markdown",
      "metadata": {
        "id": "G26Ao7nQvahf"
      },
      "source": [
        "## Introduction\n",
        "\n",
        "This notebook is designed to simulate real-world data that you could see from our technology. \n",
        "\n",
        "It is designed to test your proficiency with Python and Pandas, and your ability to find and present insights.\n",
        "\n",
        "This data is confidential; we expect you to not share this data with anyone. And we expect you to not get any external assistance.\n",
        "\n",
        "\n",
        "\n",
        "---\n",
        "\n",
        "\n",
        "You are working with a US retail customer on a pilot deployment.  They are using technology to track their merchandise throughout their supply chain.  The flow of their supply is:\n",
        "\n",
        "*   **DC 1:**  Orders are filled and palletized.\n",
        "*   **Truck:** Pallets travel from the DC 1 to DC 2 via semi-truck.\n",
        "*   **DC 2:**  Pallets are unloaded, and additional merchandise may be added.  They are then reloaded onto a new truck.\n",
        "*   **Truck:** Pallets travel from DC 2 to the Store.\n",
        "*   **Store:** Pallets are unloaded, cases are removed, and stocked, and the empty cases are left behind the building awaiting pickup. \n",
        "\n",
        "Your job is to dig into the data and find compelling insights to show the value fo the technology and help move the contract from a pilot into a full scaled deployment. \n",
        "\n",
        "\n",
        "\n",
        "---\n",
        "\n",
        "Each section has defined questions along with point values to help you prioritize your time.  \n",
        "\n",
        "In addition to the defined questions, the overall notebook and code presentation will be evaluated, and you will be awarded up to 10 points based on the clarity, cleaniness, and efficiency of the code.\n"
      ]
    },
    {
      "cell_type": "markdown",
      "metadata": {
        "id": "QLGYgyeQwO00"
      },
      "source": [
        "## Part 0: Imports\n",
        "\n",
        "Import necessary packages and "
      ]
    },
    {
      "cell_type": "code",
      "execution_count": 1,
      "metadata": {
        "id": "dOSZ-z9degpC"
      },
      "outputs": [],
      "source": [
        "# YOUR CODE HERE:\n",
        "\n",
        "import pandas as pd\n",
        "import plotly.express as px"
      ]
    },
    {
      "cell_type": "code",
      "source": [
        "# Cargar Archivo desde Google Drive\n",
        "from google.colab import drive"
      ],
      "metadata": {
        "id": "JSnSIbEWviPY"
      },
      "execution_count": 2,
      "outputs": []
    },
    {
      "cell_type": "code",
      "source": [
        "drive.mount('/content/drive') "
      ],
      "metadata": {
        "colab": {
          "base_uri": "https://localhost:8080/"
        },
        "id": "lCMQ0VJpvqx3",
        "outputId": "5e6b78ed-ba49-497e-aaf7-00cbeb2e04b2"
      },
      "execution_count": 4,
      "outputs": [
        {
          "output_type": "stream",
          "name": "stdout",
          "text": [
            "Drive already mounted at /content/drive; to attempt to forcibly remount, call drive.mount(\"/content/drive\", force_remount=True).\n"
          ]
        }
      ]
    },
    {
      "cell_type": "code",
      "source": [
        "%cd /content/drive/MyDrive/Colab Notebooks"
      ],
      "metadata": {
        "colab": {
          "base_uri": "https://localhost:8080/"
        },
        "id": "JvFm_gMMv0gy",
        "outputId": "0cd725d8-7f03-4f63-ed0d-6d7f71158242"
      },
      "execution_count": 5,
      "outputs": [
        {
          "output_type": "stream",
          "name": "stdout",
          "text": [
            "/content/drive/MyDrive/Colab Notebooks\n"
          ]
        }
      ]
    },
    {
      "cell_type": "code",
      "source": [
        "df = pd.read_excel('tote_shipment.xlsx')\n",
        "df.head()"
      ],
      "metadata": {
        "colab": {
          "base_uri": "https://localhost:8080/",
          "height": 357
        },
        "id": "_UXJsI5av6qk",
        "outputId": "30d6f572-1041-4f8a-eb53-b46bbc9f619f"
      },
      "execution_count": 6,
      "outputs": [
        {
          "output_type": "execute_result",
          "data": {
            "text/plain": [
              "  asset_type  asset_id                           tag_id  Site            Zone  \\\n",
              "0       tote         2  (01)00850027865010(21)0082T0219  DC 1  dock_doors_DC1   \n",
              "1       tote         2  (01)00850027865010(21)0082T0219  DC 1  dock_doors_DC1   \n",
              "2       tote         2  (01)00850027865010(21)0082T0219  DC 1  dock_doors_DC1   \n",
              "3       tote         2  (01)00850027865010(21)0082T0219  DC 1  dock_doors_DC1   \n",
              "4       tote         2  (01)00850027865010(21)0082T0670  DC 1  dock_doors_DC1   \n",
              "\n",
              "      device_id                time_est       lat       lng  Temperature_C  \\\n",
              "0  7F9A8353E973 2022-08-02 11:59:26.628  47.79158 -65.68902           23.0   \n",
              "1  EC5B0499234F 2022-08-02 12:00:22.660  47.79158 -65.68902           23.0   \n",
              "2  7F9A8353E973 2022-08-02 12:01:11.234  47.79158 -65.68902           23.0   \n",
              "3  3D8B2BDB8673 2022-08-02 13:47:58.172  47.79158 -65.68902           23.5   \n",
              "4  7F9A8353E973 2022-08-02 11:58:55.049  47.79158 -65.68902           23.0   \n",
              "\n",
              "   Temperature_F  \n",
              "0           73.4  \n",
              "1           73.4  \n",
              "2           73.4  \n",
              "3           74.3  \n",
              "4           73.4  "
            ],
            "text/html": [
              "\n",
              "  <div id=\"df-19dc02e8-24d3-42b1-aa8c-744664ba8ad8\">\n",
              "    <div class=\"colab-df-container\">\n",
              "      <div>\n",
              "<style scoped>\n",
              "    .dataframe tbody tr th:only-of-type {\n",
              "        vertical-align: middle;\n",
              "    }\n",
              "\n",
              "    .dataframe tbody tr th {\n",
              "        vertical-align: top;\n",
              "    }\n",
              "\n",
              "    .dataframe thead th {\n",
              "        text-align: right;\n",
              "    }\n",
              "</style>\n",
              "<table border=\"1\" class=\"dataframe\">\n",
              "  <thead>\n",
              "    <tr style=\"text-align: right;\">\n",
              "      <th></th>\n",
              "      <th>asset_type</th>\n",
              "      <th>asset_id</th>\n",
              "      <th>tag_id</th>\n",
              "      <th>Site</th>\n",
              "      <th>Zone</th>\n",
              "      <th>device_id</th>\n",
              "      <th>time_est</th>\n",
              "      <th>lat</th>\n",
              "      <th>lng</th>\n",
              "      <th>Temperature_C</th>\n",
              "      <th>Temperature_F</th>\n",
              "    </tr>\n",
              "  </thead>\n",
              "  <tbody>\n",
              "    <tr>\n",
              "      <th>0</th>\n",
              "      <td>tote</td>\n",
              "      <td>2</td>\n",
              "      <td>(01)00850027865010(21)0082T0219</td>\n",
              "      <td>DC 1</td>\n",
              "      <td>dock_doors_DC1</td>\n",
              "      <td>7F9A8353E973</td>\n",
              "      <td>2022-08-02 11:59:26.628</td>\n",
              "      <td>47.79158</td>\n",
              "      <td>-65.68902</td>\n",
              "      <td>23.0</td>\n",
              "      <td>73.4</td>\n",
              "    </tr>\n",
              "    <tr>\n",
              "      <th>1</th>\n",
              "      <td>tote</td>\n",
              "      <td>2</td>\n",
              "      <td>(01)00850027865010(21)0082T0219</td>\n",
              "      <td>DC 1</td>\n",
              "      <td>dock_doors_DC1</td>\n",
              "      <td>EC5B0499234F</td>\n",
              "      <td>2022-08-02 12:00:22.660</td>\n",
              "      <td>47.79158</td>\n",
              "      <td>-65.68902</td>\n",
              "      <td>23.0</td>\n",
              "      <td>73.4</td>\n",
              "    </tr>\n",
              "    <tr>\n",
              "      <th>2</th>\n",
              "      <td>tote</td>\n",
              "      <td>2</td>\n",
              "      <td>(01)00850027865010(21)0082T0219</td>\n",
              "      <td>DC 1</td>\n",
              "      <td>dock_doors_DC1</td>\n",
              "      <td>7F9A8353E973</td>\n",
              "      <td>2022-08-02 12:01:11.234</td>\n",
              "      <td>47.79158</td>\n",
              "      <td>-65.68902</td>\n",
              "      <td>23.0</td>\n",
              "      <td>73.4</td>\n",
              "    </tr>\n",
              "    <tr>\n",
              "      <th>3</th>\n",
              "      <td>tote</td>\n",
              "      <td>2</td>\n",
              "      <td>(01)00850027865010(21)0082T0219</td>\n",
              "      <td>DC 1</td>\n",
              "      <td>dock_doors_DC1</td>\n",
              "      <td>3D8B2BDB8673</td>\n",
              "      <td>2022-08-02 13:47:58.172</td>\n",
              "      <td>47.79158</td>\n",
              "      <td>-65.68902</td>\n",
              "      <td>23.5</td>\n",
              "      <td>74.3</td>\n",
              "    </tr>\n",
              "    <tr>\n",
              "      <th>4</th>\n",
              "      <td>tote</td>\n",
              "      <td>2</td>\n",
              "      <td>(01)00850027865010(21)0082T0670</td>\n",
              "      <td>DC 1</td>\n",
              "      <td>dock_doors_DC1</td>\n",
              "      <td>7F9A8353E973</td>\n",
              "      <td>2022-08-02 11:58:55.049</td>\n",
              "      <td>47.79158</td>\n",
              "      <td>-65.68902</td>\n",
              "      <td>23.0</td>\n",
              "      <td>73.4</td>\n",
              "    </tr>\n",
              "  </tbody>\n",
              "</table>\n",
              "</div>\n",
              "      <button class=\"colab-df-convert\" onclick=\"convertToInteractive('df-19dc02e8-24d3-42b1-aa8c-744664ba8ad8')\"\n",
              "              title=\"Convert this dataframe to an interactive table.\"\n",
              "              style=\"display:none;\">\n",
              "        \n",
              "  <svg xmlns=\"http://www.w3.org/2000/svg\" height=\"24px\"viewBox=\"0 0 24 24\"\n",
              "       width=\"24px\">\n",
              "    <path d=\"M0 0h24v24H0V0z\" fill=\"none\"/>\n",
              "    <path d=\"M18.56 5.44l.94 2.06.94-2.06 2.06-.94-2.06-.94-.94-2.06-.94 2.06-2.06.94zm-11 1L8.5 8.5l.94-2.06 2.06-.94-2.06-.94L8.5 2.5l-.94 2.06-2.06.94zm10 10l.94 2.06.94-2.06 2.06-.94-2.06-.94-.94-2.06-.94 2.06-2.06.94z\"/><path d=\"M17.41 7.96l-1.37-1.37c-.4-.4-.92-.59-1.43-.59-.52 0-1.04.2-1.43.59L10.3 9.45l-7.72 7.72c-.78.78-.78 2.05 0 2.83L4 21.41c.39.39.9.59 1.41.59.51 0 1.02-.2 1.41-.59l7.78-7.78 2.81-2.81c.8-.78.8-2.07 0-2.86zM5.41 20L4 18.59l7.72-7.72 1.47 1.35L5.41 20z\"/>\n",
              "  </svg>\n",
              "      </button>\n",
              "      \n",
              "  <style>\n",
              "    .colab-df-container {\n",
              "      display:flex;\n",
              "      flex-wrap:wrap;\n",
              "      gap: 12px;\n",
              "    }\n",
              "\n",
              "    .colab-df-convert {\n",
              "      background-color: #E8F0FE;\n",
              "      border: none;\n",
              "      border-radius: 50%;\n",
              "      cursor: pointer;\n",
              "      display: none;\n",
              "      fill: #1967D2;\n",
              "      height: 32px;\n",
              "      padding: 0 0 0 0;\n",
              "      width: 32px;\n",
              "    }\n",
              "\n",
              "    .colab-df-convert:hover {\n",
              "      background-color: #E2EBFA;\n",
              "      box-shadow: 0px 1px 2px rgba(60, 64, 67, 0.3), 0px 1px 3px 1px rgba(60, 64, 67, 0.15);\n",
              "      fill: #174EA6;\n",
              "    }\n",
              "\n",
              "    [theme=dark] .colab-df-convert {\n",
              "      background-color: #3B4455;\n",
              "      fill: #D2E3FC;\n",
              "    }\n",
              "\n",
              "    [theme=dark] .colab-df-convert:hover {\n",
              "      background-color: #434B5C;\n",
              "      box-shadow: 0px 1px 3px 1px rgba(0, 0, 0, 0.15);\n",
              "      filter: drop-shadow(0px 1px 2px rgba(0, 0, 0, 0.3));\n",
              "      fill: #FFFFFF;\n",
              "    }\n",
              "  </style>\n",
              "\n",
              "      <script>\n",
              "        const buttonEl =\n",
              "          document.querySelector('#df-19dc02e8-24d3-42b1-aa8c-744664ba8ad8 button.colab-df-convert');\n",
              "        buttonEl.style.display =\n",
              "          google.colab.kernel.accessAllowed ? 'block' : 'none';\n",
              "\n",
              "        async function convertToInteractive(key) {\n",
              "          const element = document.querySelector('#df-19dc02e8-24d3-42b1-aa8c-744664ba8ad8');\n",
              "          const dataTable =\n",
              "            await google.colab.kernel.invokeFunction('convertToInteractive',\n",
              "                                                     [key], {});\n",
              "          if (!dataTable) return;\n",
              "\n",
              "          const docLinkHtml = 'Like what you see? Visit the ' +\n",
              "            '<a target=\"_blank\" href=https://colab.research.google.com/notebooks/data_table.ipynb>data table notebook</a>'\n",
              "            + ' to learn more about interactive tables.';\n",
              "          element.innerHTML = '';\n",
              "          dataTable['output_type'] = 'display_data';\n",
              "          await google.colab.output.renderOutput(dataTable, element);\n",
              "          const docLink = document.createElement('div');\n",
              "          docLink.innerHTML = docLinkHtml;\n",
              "          element.appendChild(docLink);\n",
              "        }\n",
              "      </script>\n",
              "    </div>\n",
              "  </div>\n",
              "  "
            ]
          },
          "metadata": {},
          "execution_count": 6
        }
      ]
    },
    {
      "cell_type": "markdown",
      "metadata": {
        "id": "ilure2qpw4lT"
      },
      "source": [
        "### Dataset Overview\n",
        "\n",
        "* Site:  A large space that could contain multiple readers. Ex: DC 1.\n",
        "* Zone:  Point of interest. These represent areas in which repeaters are installed. These can be thought of as sub-zones.  Ex: Dock Doors.\n",
        "* Asset ID: The unique ID of the asset.\n",
        "* Asset Type: The type of thing that is detected (ie tote).\n",
        "* Device ID: The unique gateway reader ID that detected the device in the zone (there can be multiple in one zone).\n",
        "* Time est: The time in EST.\n",
        "* Lon: Longituge\n",
        "* Lat: Latitude\n",
        "* Temperature_C / F: Temperature in Celsius, Fahrentheit"
      ]
    },
    {
      "cell_type": "markdown",
      "metadata": {
        "id": "0PcG1lJdwopq"
      },
      "source": [
        "## PART 1: Data Overview"
      ]
    },
    {
      "cell_type": "markdown",
      "metadata": {
        "id": "tLLUIhxZ0wvF"
      },
      "source": [
        "### Question 1:\n",
        "\n",
        "* How many unique cases were we tracking throughout this pilot. (1 pt)\n",
        "* What are the unique zones we could see (1 pt)\n",
        "* How many POI's are in each Zone. (2 pts) \n"
      ]
    },
    {
      "cell_type": "code",
      "execution_count": 7,
      "metadata": {
        "id": "PDMC6O4h0uqD",
        "colab": {
          "base_uri": "https://localhost:8080/"
        },
        "outputId": "8ab43c75-f270-4b56-c180-749b766df682"
      },
      "outputs": [
        {
          "output_type": "execute_result",
          "data": {
            "text/plain": [
              "array(['DC 1', 'DC 2', 'Transit', 'Store'], dtype=object)"
            ]
          },
          "metadata": {},
          "execution_count": 7
        }
      ],
      "source": [
        "# YOUR CODE HERE:\n",
        "# How many unique cases were we tracking throughout this pilot. (1 pt)\n",
        "df['Site'].unique()"
      ]
    },
    {
      "cell_type": "code",
      "source": [
        "df['Site'].nunique()"
      ],
      "metadata": {
        "colab": {
          "base_uri": "https://localhost:8080/"
        },
        "id": "ExU6YO7I1Fls",
        "outputId": "49206e7f-cf3b-4b9a-9498-6cb4302ca7e4"
      },
      "execution_count": 8,
      "outputs": [
        {
          "output_type": "execute_result",
          "data": {
            "text/plain": [
              "4"
            ]
          },
          "metadata": {},
          "execution_count": 8
        }
      ]
    },
    {
      "cell_type": "code",
      "source": [
        "# What are the unique zones we could see (1 pt)\n",
        "df['Zone'].unique()"
      ],
      "metadata": {
        "colab": {
          "base_uri": "https://localhost:8080/"
        },
        "id": "NAo8NJ70xoEb",
        "outputId": "f6928814-448f-46e6-d87f-e82d995918e9"
      },
      "execution_count": 10,
      "outputs": [
        {
          "output_type": "execute_result",
          "data": {
            "text/plain": [
              "array(['dock_doors_DC1', 'dock_doors_DC2', 'Forklift3_DC1',\n",
              "       'pallet_assembly_DC1', 'PhoneKit1Bridge', 'PhoneKit2Bridge',\n",
              "       'PhoneKit2GW', 'point_of_sale_Store', 'receiving_Store',\n",
              "       'staging_DC1', 'staging_DC2', 'store_back_Store',\n",
              "       'store_front_Store', 'Forklift1_DC1', 'PhoneKit1GW'], dtype=object)"
            ]
          },
          "metadata": {},
          "execution_count": 10
        }
      ]
    },
    {
      "cell_type": "code",
      "source": [
        "df['Zone'].nunique()"
      ],
      "metadata": {
        "colab": {
          "base_uri": "https://localhost:8080/"
        },
        "id": "DiXTVnhi1WDt",
        "outputId": "80129ef9-491c-4475-ad20-626349f6a46a"
      },
      "execution_count": 11,
      "outputs": [
        {
          "output_type": "execute_result",
          "data": {
            "text/plain": [
              "15"
            ]
          },
          "metadata": {},
          "execution_count": 11
        }
      ]
    },
    {
      "cell_type": "code",
      "source": [
        "# How many POI's are in each Zone. (2 pts)\n",
        "df['Zone'].unique()"
      ],
      "metadata": {
        "colab": {
          "base_uri": "https://localhost:8080/"
        },
        "id": "k3cc2HK8ySKR",
        "outputId": "0a16e9ac-d471-4fee-95e5-50364f373abc"
      },
      "execution_count": null,
      "outputs": [
        {
          "output_type": "execute_result",
          "data": {
            "text/plain": [
              "array(['dock_doors_DC1', 'dock_doors_DC2', 'Forklift3_DC1',\n",
              "       'pallet_assembly_DC1', 'PhoneKit1Bridge', 'PhoneKit2Bridge',\n",
              "       'PhoneKit2GW', 'point_of_sale_Store', 'receiving_Store',\n",
              "       'staging_DC1', 'staging_DC2', 'store_back_Store',\n",
              "       'store_front_Store', 'Forklift1_DC1', 'PhoneKit1GW'], dtype=object)"
            ]
          },
          "metadata": {},
          "execution_count": 11
        }
      ]
    },
    {
      "cell_type": "code",
      "source": [
        "pd.DataFrame(df.groupby(['Site'])['Zone'].unique().reset_index().rename(columns = {'Zone':'POI'}))"
      ],
      "metadata": {
        "colab": {
          "base_uri": "https://localhost:8080/",
          "height": 193
        },
        "id": "EzA8i3pQ1ll6",
        "outputId": "3989f2b6-8049-4eeb-84b3-699dc9724b1a"
      },
      "execution_count": 29,
      "outputs": [
        {
          "output_type": "execute_result",
          "data": {
            "text/plain": [
              "      Site                                                POI\n",
              "0     DC 1  [dock_doors_DC1, Forklift3_DC1, pallet_assembl...\n",
              "1     DC 2                      [dock_doors_DC2, staging_DC2]\n",
              "2    Store  [point_of_sale_Store, receiving_Store, store_b...\n",
              "3  Transit  [PhoneKit1Bridge, PhoneKit2Bridge, PhoneKit2GW..."
            ],
            "text/html": [
              "\n",
              "  <div id=\"df-9e98c9c4-ce1a-4f18-83f8-79025706314b\">\n",
              "    <div class=\"colab-df-container\">\n",
              "      <div>\n",
              "<style scoped>\n",
              "    .dataframe tbody tr th:only-of-type {\n",
              "        vertical-align: middle;\n",
              "    }\n",
              "\n",
              "    .dataframe tbody tr th {\n",
              "        vertical-align: top;\n",
              "    }\n",
              "\n",
              "    .dataframe thead th {\n",
              "        text-align: right;\n",
              "    }\n",
              "</style>\n",
              "<table border=\"1\" class=\"dataframe\">\n",
              "  <thead>\n",
              "    <tr style=\"text-align: right;\">\n",
              "      <th></th>\n",
              "      <th>Site</th>\n",
              "      <th>POI</th>\n",
              "    </tr>\n",
              "  </thead>\n",
              "  <tbody>\n",
              "    <tr>\n",
              "      <th>0</th>\n",
              "      <td>DC 1</td>\n",
              "      <td>[dock_doors_DC1, Forklift3_DC1, pallet_assembl...</td>\n",
              "    </tr>\n",
              "    <tr>\n",
              "      <th>1</th>\n",
              "      <td>DC 2</td>\n",
              "      <td>[dock_doors_DC2, staging_DC2]</td>\n",
              "    </tr>\n",
              "    <tr>\n",
              "      <th>2</th>\n",
              "      <td>Store</td>\n",
              "      <td>[point_of_sale_Store, receiving_Store, store_b...</td>\n",
              "    </tr>\n",
              "    <tr>\n",
              "      <th>3</th>\n",
              "      <td>Transit</td>\n",
              "      <td>[PhoneKit1Bridge, PhoneKit2Bridge, PhoneKit2GW...</td>\n",
              "    </tr>\n",
              "  </tbody>\n",
              "</table>\n",
              "</div>\n",
              "      <button class=\"colab-df-convert\" onclick=\"convertToInteractive('df-9e98c9c4-ce1a-4f18-83f8-79025706314b')\"\n",
              "              title=\"Convert this dataframe to an interactive table.\"\n",
              "              style=\"display:none;\">\n",
              "        \n",
              "  <svg xmlns=\"http://www.w3.org/2000/svg\" height=\"24px\"viewBox=\"0 0 24 24\"\n",
              "       width=\"24px\">\n",
              "    <path d=\"M0 0h24v24H0V0z\" fill=\"none\"/>\n",
              "    <path d=\"M18.56 5.44l.94 2.06.94-2.06 2.06-.94-2.06-.94-.94-2.06-.94 2.06-2.06.94zm-11 1L8.5 8.5l.94-2.06 2.06-.94-2.06-.94L8.5 2.5l-.94 2.06-2.06.94zm10 10l.94 2.06.94-2.06 2.06-.94-2.06-.94-.94-2.06-.94 2.06-2.06.94z\"/><path d=\"M17.41 7.96l-1.37-1.37c-.4-.4-.92-.59-1.43-.59-.52 0-1.04.2-1.43.59L10.3 9.45l-7.72 7.72c-.78.78-.78 2.05 0 2.83L4 21.41c.39.39.9.59 1.41.59.51 0 1.02-.2 1.41-.59l7.78-7.78 2.81-2.81c.8-.78.8-2.07 0-2.86zM5.41 20L4 18.59l7.72-7.72 1.47 1.35L5.41 20z\"/>\n",
              "  </svg>\n",
              "      </button>\n",
              "      \n",
              "  <style>\n",
              "    .colab-df-container {\n",
              "      display:flex;\n",
              "      flex-wrap:wrap;\n",
              "      gap: 12px;\n",
              "    }\n",
              "\n",
              "    .colab-df-convert {\n",
              "      background-color: #E8F0FE;\n",
              "      border: none;\n",
              "      border-radius: 50%;\n",
              "      cursor: pointer;\n",
              "      display: none;\n",
              "      fill: #1967D2;\n",
              "      height: 32px;\n",
              "      padding: 0 0 0 0;\n",
              "      width: 32px;\n",
              "    }\n",
              "\n",
              "    .colab-df-convert:hover {\n",
              "      background-color: #E2EBFA;\n",
              "      box-shadow: 0px 1px 2px rgba(60, 64, 67, 0.3), 0px 1px 3px 1px rgba(60, 64, 67, 0.15);\n",
              "      fill: #174EA6;\n",
              "    }\n",
              "\n",
              "    [theme=dark] .colab-df-convert {\n",
              "      background-color: #3B4455;\n",
              "      fill: #D2E3FC;\n",
              "    }\n",
              "\n",
              "    [theme=dark] .colab-df-convert:hover {\n",
              "      background-color: #434B5C;\n",
              "      box-shadow: 0px 1px 3px 1px rgba(0, 0, 0, 0.15);\n",
              "      filter: drop-shadow(0px 1px 2px rgba(0, 0, 0, 0.3));\n",
              "      fill: #FFFFFF;\n",
              "    }\n",
              "  </style>\n",
              "\n",
              "      <script>\n",
              "        const buttonEl =\n",
              "          document.querySelector('#df-9e98c9c4-ce1a-4f18-83f8-79025706314b button.colab-df-convert');\n",
              "        buttonEl.style.display =\n",
              "          google.colab.kernel.accessAllowed ? 'block' : 'none';\n",
              "\n",
              "        async function convertToInteractive(key) {\n",
              "          const element = document.querySelector('#df-9e98c9c4-ce1a-4f18-83f8-79025706314b');\n",
              "          const dataTable =\n",
              "            await google.colab.kernel.invokeFunction('convertToInteractive',\n",
              "                                                     [key], {});\n",
              "          if (!dataTable) return;\n",
              "\n",
              "          const docLinkHtml = 'Like what you see? Visit the ' +\n",
              "            '<a target=\"_blank\" href=https://colab.research.google.com/notebooks/data_table.ipynb>data table notebook</a>'\n",
              "            + ' to learn more about interactive tables.';\n",
              "          element.innerHTML = '';\n",
              "          dataTable['output_type'] = 'display_data';\n",
              "          await google.colab.output.renderOutput(dataTable, element);\n",
              "          const docLink = document.createElement('div');\n",
              "          docLink.innerHTML = docLinkHtml;\n",
              "          element.appendChild(docLink);\n",
              "        }\n",
              "      </script>\n",
              "    </div>\n",
              "  </div>\n",
              "  "
            ]
          },
          "metadata": {},
          "execution_count": 29
        }
      ]
    },
    {
      "cell_type": "code",
      "source": [
        "pd.DataFrame(df.groupby(['Site'])['Zone'].nunique().reset_index().rename(columns = {'Zone':'POI'}))"
      ],
      "metadata": {
        "colab": {
          "base_uri": "https://localhost:8080/",
          "height": 175
        },
        "id": "i7sCm4-13x47",
        "outputId": "728f692a-a6f2-40a7-d918-66bfbaead3f0"
      },
      "execution_count": 30,
      "outputs": [
        {
          "output_type": "execute_result",
          "data": {
            "text/plain": [
              "      Site  POI\n",
              "0     DC 1    5\n",
              "1     DC 2    2\n",
              "2    Store    4\n",
              "3  Transit    4"
            ],
            "text/html": [
              "\n",
              "  <div id=\"df-bb643953-5a22-4aaf-b370-d413e069e4a1\">\n",
              "    <div class=\"colab-df-container\">\n",
              "      <div>\n",
              "<style scoped>\n",
              "    .dataframe tbody tr th:only-of-type {\n",
              "        vertical-align: middle;\n",
              "    }\n",
              "\n",
              "    .dataframe tbody tr th {\n",
              "        vertical-align: top;\n",
              "    }\n",
              "\n",
              "    .dataframe thead th {\n",
              "        text-align: right;\n",
              "    }\n",
              "</style>\n",
              "<table border=\"1\" class=\"dataframe\">\n",
              "  <thead>\n",
              "    <tr style=\"text-align: right;\">\n",
              "      <th></th>\n",
              "      <th>Site</th>\n",
              "      <th>POI</th>\n",
              "    </tr>\n",
              "  </thead>\n",
              "  <tbody>\n",
              "    <tr>\n",
              "      <th>0</th>\n",
              "      <td>DC 1</td>\n",
              "      <td>5</td>\n",
              "    </tr>\n",
              "    <tr>\n",
              "      <th>1</th>\n",
              "      <td>DC 2</td>\n",
              "      <td>2</td>\n",
              "    </tr>\n",
              "    <tr>\n",
              "      <th>2</th>\n",
              "      <td>Store</td>\n",
              "      <td>4</td>\n",
              "    </tr>\n",
              "    <tr>\n",
              "      <th>3</th>\n",
              "      <td>Transit</td>\n",
              "      <td>4</td>\n",
              "    </tr>\n",
              "  </tbody>\n",
              "</table>\n",
              "</div>\n",
              "      <button class=\"colab-df-convert\" onclick=\"convertToInteractive('df-bb643953-5a22-4aaf-b370-d413e069e4a1')\"\n",
              "              title=\"Convert this dataframe to an interactive table.\"\n",
              "              style=\"display:none;\">\n",
              "        \n",
              "  <svg xmlns=\"http://www.w3.org/2000/svg\" height=\"24px\"viewBox=\"0 0 24 24\"\n",
              "       width=\"24px\">\n",
              "    <path d=\"M0 0h24v24H0V0z\" fill=\"none\"/>\n",
              "    <path d=\"M18.56 5.44l.94 2.06.94-2.06 2.06-.94-2.06-.94-.94-2.06-.94 2.06-2.06.94zm-11 1L8.5 8.5l.94-2.06 2.06-.94-2.06-.94L8.5 2.5l-.94 2.06-2.06.94zm10 10l.94 2.06.94-2.06 2.06-.94-2.06-.94-.94-2.06-.94 2.06-2.06.94z\"/><path d=\"M17.41 7.96l-1.37-1.37c-.4-.4-.92-.59-1.43-.59-.52 0-1.04.2-1.43.59L10.3 9.45l-7.72 7.72c-.78.78-.78 2.05 0 2.83L4 21.41c.39.39.9.59 1.41.59.51 0 1.02-.2 1.41-.59l7.78-7.78 2.81-2.81c.8-.78.8-2.07 0-2.86zM5.41 20L4 18.59l7.72-7.72 1.47 1.35L5.41 20z\"/>\n",
              "  </svg>\n",
              "      </button>\n",
              "      \n",
              "  <style>\n",
              "    .colab-df-container {\n",
              "      display:flex;\n",
              "      flex-wrap:wrap;\n",
              "      gap: 12px;\n",
              "    }\n",
              "\n",
              "    .colab-df-convert {\n",
              "      background-color: #E8F0FE;\n",
              "      border: none;\n",
              "      border-radius: 50%;\n",
              "      cursor: pointer;\n",
              "      display: none;\n",
              "      fill: #1967D2;\n",
              "      height: 32px;\n",
              "      padding: 0 0 0 0;\n",
              "      width: 32px;\n",
              "    }\n",
              "\n",
              "    .colab-df-convert:hover {\n",
              "      background-color: #E2EBFA;\n",
              "      box-shadow: 0px 1px 2px rgba(60, 64, 67, 0.3), 0px 1px 3px 1px rgba(60, 64, 67, 0.15);\n",
              "      fill: #174EA6;\n",
              "    }\n",
              "\n",
              "    [theme=dark] .colab-df-convert {\n",
              "      background-color: #3B4455;\n",
              "      fill: #D2E3FC;\n",
              "    }\n",
              "\n",
              "    [theme=dark] .colab-df-convert:hover {\n",
              "      background-color: #434B5C;\n",
              "      box-shadow: 0px 1px 3px 1px rgba(0, 0, 0, 0.15);\n",
              "      filter: drop-shadow(0px 1px 2px rgba(0, 0, 0, 0.3));\n",
              "      fill: #FFFFFF;\n",
              "    }\n",
              "  </style>\n",
              "\n",
              "      <script>\n",
              "        const buttonEl =\n",
              "          document.querySelector('#df-bb643953-5a22-4aaf-b370-d413e069e4a1 button.colab-df-convert');\n",
              "        buttonEl.style.display =\n",
              "          google.colab.kernel.accessAllowed ? 'block' : 'none';\n",
              "\n",
              "        async function convertToInteractive(key) {\n",
              "          const element = document.querySelector('#df-bb643953-5a22-4aaf-b370-d413e069e4a1');\n",
              "          const dataTable =\n",
              "            await google.colab.kernel.invokeFunction('convertToInteractive',\n",
              "                                                     [key], {});\n",
              "          if (!dataTable) return;\n",
              "\n",
              "          const docLinkHtml = 'Like what you see? Visit the ' +\n",
              "            '<a target=\"_blank\" href=https://colab.research.google.com/notebooks/data_table.ipynb>data table notebook</a>'\n",
              "            + ' to learn more about interactive tables.';\n",
              "          element.innerHTML = '';\n",
              "          dataTable['output_type'] = 'display_data';\n",
              "          await google.colab.output.renderOutput(dataTable, element);\n",
              "          const docLink = document.createElement('div');\n",
              "          docLink.innerHTML = docLinkHtml;\n",
              "          element.appendChild(docLink);\n",
              "        }\n",
              "      </script>\n",
              "    </div>\n",
              "  </div>\n",
              "  "
            ]
          },
          "metadata": {},
          "execution_count": 30
        }
      ]
    },
    {
      "cell_type": "markdown",
      "metadata": {
        "id": "5SaHgmjN1sfO"
      },
      "source": [
        "### Question 2:\n",
        "\n",
        "* What is the temperature range we see?  (1pt)\n",
        "* Where is temperature the highest and lowest (1pt)"
      ]
    },
    {
      "cell_type": "code",
      "execution_count": 25,
      "metadata": {
        "id": "Yv6mfo8K1_uD",
        "colab": {
          "base_uri": "https://localhost:8080/"
        },
        "outputId": "e62130ff-e953-4118-f061-cc8012dd8c52"
      },
      "outputs": [
        {
          "output_type": "execute_result",
          "data": {
            "text/plain": [
              "25.0"
            ]
          },
          "metadata": {},
          "execution_count": 25
        }
      ],
      "source": [
        "# YOUR CODE HERE:\n",
        "# What is the temperature range we see? (1pt)\n",
        "df['Temperature_C'].max() - df['Temperature_C'].min()\n"
      ]
    },
    {
      "cell_type": "code",
      "source": [
        "# Highest temperature\n",
        "df['Temperature_C'].max()"
      ],
      "metadata": {
        "colab": {
          "base_uri": "https://localhost:8080/"
        },
        "id": "nK3eLqPb07OQ",
        "outputId": "4e987c1b-a0da-4771-bc75-1ac1233dcfdd"
      },
      "execution_count": 26,
      "outputs": [
        {
          "output_type": "execute_result",
          "data": {
            "text/plain": [
              "44.0"
            ]
          },
          "metadata": {},
          "execution_count": 26
        }
      ]
    },
    {
      "cell_type": "code",
      "source": [
        "# Lowest temperature\n",
        "df['Temperature_C'].min()"
      ],
      "metadata": {
        "colab": {
          "base_uri": "https://localhost:8080/"
        },
        "id": "9U1qdjkG1FuJ",
        "outputId": "fcae2e57-6816-4549-e5f8-9ece8387f93d"
      },
      "execution_count": 27,
      "outputs": [
        {
          "output_type": "execute_result",
          "data": {
            "text/plain": [
              "19.0"
            ]
          },
          "metadata": {},
          "execution_count": 27
        }
      ]
    },
    {
      "cell_type": "markdown",
      "metadata": {
        "id": "83ZytoZ02Oih"
      },
      "source": [
        "## Part 2: The Journey of a Case"
      ]
    },
    {
      "cell_type": "markdown",
      "metadata": {
        "id": "LT32Svy42BR8"
      },
      "source": [
        "### Question 3:\n",
        "\n",
        "* Create a visualization that shows where a case was at over time at the zone or POI level. Imagine that this would be included in your presentation to the customer. (Non techical audience) (3 pts)"
      ]
    },
    {
      "cell_type": "code",
      "source": [
        "# Libreria para manipular variables tipo tiempo\n",
        "from datetime import datetime, date"
      ],
      "metadata": {
        "id": "i3CC4Zd-4Xcc"
      },
      "execution_count": 32,
      "outputs": []
    },
    {
      "cell_type": "code",
      "source": [
        "df.info()"
      ],
      "metadata": {
        "colab": {
          "base_uri": "https://localhost:8080/"
        },
        "id": "RYlkDbr-4dqG",
        "outputId": "887b6d93-9794-48c7-8483-92956e2a17ee"
      },
      "execution_count": 41,
      "outputs": [
        {
          "output_type": "stream",
          "name": "stdout",
          "text": [
            "<class 'pandas.core.frame.DataFrame'>\n",
            "RangeIndex: 130061 entries, 0 to 130060\n",
            "Data columns (total 13 columns):\n",
            " #   Column         Non-Null Count   Dtype         \n",
            "---  ------         --------------   -----         \n",
            " 0   asset_type     130061 non-null  object        \n",
            " 1   asset_id       130061 non-null  int64         \n",
            " 2   tag_id         130061 non-null  object        \n",
            " 3   Site           130061 non-null  object        \n",
            " 4   Zone           130061 non-null  object        \n",
            " 5   device_id      130061 non-null  object        \n",
            " 6   time_est       130061 non-null  datetime64[ns]\n",
            " 7   lat            130061 non-null  float64       \n",
            " 8   lng            130061 non-null  float64       \n",
            " 9   Temperature_C  130061 non-null  float64       \n",
            " 10  Temperature_F  130061 non-null  float64       \n",
            " 11  Fecha          130061 non-null  object        \n",
            " 12  Time           130061 non-null  object        \n",
            "dtypes: datetime64[ns](1), float64(4), int64(1), object(7)\n",
            "memory usage: 12.9+ MB\n"
          ]
        }
      ]
    },
    {
      "cell_type": "code",
      "source": [
        "df['asset_id'].unique()"
      ],
      "metadata": {
        "colab": {
          "base_uri": "https://localhost:8080/"
        },
        "id": "-THh5WNt8KCi",
        "outputId": "2388f64a-a002-4f97-9145-8b1f202ea0ea"
      },
      "execution_count": 43,
      "outputs": [
        {
          "output_type": "execute_result",
          "data": {
            "text/plain": [
              "array([  2,  37,  52,  58,  59,  62,  70,  84, 102, 145, 149, 159, 167,\n",
              "       170, 181, 182, 200, 205])"
            ]
          },
          "metadata": {},
          "execution_count": 43
        }
      ]
    },
    {
      "cell_type": "code",
      "source": [
        "df.groupby(['asset_id'])\n",
        "df['asset_id'].unique()"
      ],
      "metadata": {
        "id": "6uVmbUkP8YdE"
      },
      "execution_count": null,
      "outputs": []
    },
    {
      "cell_type": "code",
      "source": [
        "df['time_est'].nunique()"
      ],
      "metadata": {
        "colab": {
          "base_uri": "https://localhost:8080/"
        },
        "id": "2bolk71p4mQ-",
        "outputId": "8fbe95a1-ddcb-4105-efca-8a76d646b545"
      },
      "execution_count": 34,
      "outputs": [
        {
          "output_type": "execute_result",
          "data": {
            "text/plain": [
              "129887"
            ]
          },
          "metadata": {},
          "execution_count": 34
        }
      ]
    },
    {
      "cell_type": "code",
      "source": [
        "df.groupby(['time_est']).asset_id.nunique()"
      ],
      "metadata": {
        "colab": {
          "base_uri": "https://localhost:8080/"
        },
        "id": "m0FV2exw5A_O",
        "outputId": "8df0ce65-0f44-497d-f430-a2720c0f5c2e"
      },
      "execution_count": 36,
      "outputs": [
        {
          "output_type": "execute_result",
          "data": {
            "text/plain": [
              "time_est\n",
              "2022-08-02 10:14:54.326    1\n",
              "2022-08-02 10:15:38.860    1\n",
              "2022-08-02 10:17:23.366    1\n",
              "2022-08-02 10:18:23.847    1\n",
              "2022-08-02 10:20:43.706    1\n",
              "                          ..\n",
              "2022-08-05 13:28:26.584    1\n",
              "2022-08-05 13:28:27.564    1\n",
              "2022-08-05 13:28:28.172    1\n",
              "2022-08-05 13:28:28.576    1\n",
              "2022-08-05 13:28:29.966    1\n",
              "Name: asset_id, Length: 129887, dtype: int64"
            ]
          },
          "metadata": {},
          "execution_count": 36
        }
      ]
    },
    {
      "cell_type": "code",
      "source": [
        "df['Fecha'] = pd.to_datetime(df['time_est']).dt.date\n",
        "df.head()"
      ],
      "metadata": {
        "colab": {
          "base_uri": "https://localhost:8080/",
          "height": 357
        },
        "id": "OiTPYcOS5Lab",
        "outputId": "b42d9470-153d-422f-eeb3-7014e7e5134e"
      },
      "execution_count": 39,
      "outputs": [
        {
          "output_type": "execute_result",
          "data": {
            "text/plain": [
              "  asset_type  asset_id                           tag_id  Site            Zone  \\\n",
              "0       tote         2  (01)00850027865010(21)0082T0219  DC 1  dock_doors_DC1   \n",
              "1       tote         2  (01)00850027865010(21)0082T0219  DC 1  dock_doors_DC1   \n",
              "2       tote         2  (01)00850027865010(21)0082T0219  DC 1  dock_doors_DC1   \n",
              "3       tote         2  (01)00850027865010(21)0082T0219  DC 1  dock_doors_DC1   \n",
              "4       tote         2  (01)00850027865010(21)0082T0670  DC 1  dock_doors_DC1   \n",
              "\n",
              "      device_id                time_est       lat       lng  Temperature_C  \\\n",
              "0  7F9A8353E973 2022-08-02 11:59:26.628  47.79158 -65.68902           23.0   \n",
              "1  EC5B0499234F 2022-08-02 12:00:22.660  47.79158 -65.68902           23.0   \n",
              "2  7F9A8353E973 2022-08-02 12:01:11.234  47.79158 -65.68902           23.0   \n",
              "3  3D8B2BDB8673 2022-08-02 13:47:58.172  47.79158 -65.68902           23.5   \n",
              "4  7F9A8353E973 2022-08-02 11:58:55.049  47.79158 -65.68902           23.0   \n",
              "\n",
              "   Temperature_F       Fecha  \n",
              "0           73.4  2022-08-02  \n",
              "1           73.4  2022-08-02  \n",
              "2           73.4  2022-08-02  \n",
              "3           74.3  2022-08-02  \n",
              "4           73.4  2022-08-02  "
            ],
            "text/html": [
              "\n",
              "  <div id=\"df-9e460a56-69f2-486b-b560-c817f921262c\">\n",
              "    <div class=\"colab-df-container\">\n",
              "      <div>\n",
              "<style scoped>\n",
              "    .dataframe tbody tr th:only-of-type {\n",
              "        vertical-align: middle;\n",
              "    }\n",
              "\n",
              "    .dataframe tbody tr th {\n",
              "        vertical-align: top;\n",
              "    }\n",
              "\n",
              "    .dataframe thead th {\n",
              "        text-align: right;\n",
              "    }\n",
              "</style>\n",
              "<table border=\"1\" class=\"dataframe\">\n",
              "  <thead>\n",
              "    <tr style=\"text-align: right;\">\n",
              "      <th></th>\n",
              "      <th>asset_type</th>\n",
              "      <th>asset_id</th>\n",
              "      <th>tag_id</th>\n",
              "      <th>Site</th>\n",
              "      <th>Zone</th>\n",
              "      <th>device_id</th>\n",
              "      <th>time_est</th>\n",
              "      <th>lat</th>\n",
              "      <th>lng</th>\n",
              "      <th>Temperature_C</th>\n",
              "      <th>Temperature_F</th>\n",
              "      <th>Fecha</th>\n",
              "    </tr>\n",
              "  </thead>\n",
              "  <tbody>\n",
              "    <tr>\n",
              "      <th>0</th>\n",
              "      <td>tote</td>\n",
              "      <td>2</td>\n",
              "      <td>(01)00850027865010(21)0082T0219</td>\n",
              "      <td>DC 1</td>\n",
              "      <td>dock_doors_DC1</td>\n",
              "      <td>7F9A8353E973</td>\n",
              "      <td>2022-08-02 11:59:26.628</td>\n",
              "      <td>47.79158</td>\n",
              "      <td>-65.68902</td>\n",
              "      <td>23.0</td>\n",
              "      <td>73.4</td>\n",
              "      <td>2022-08-02</td>\n",
              "    </tr>\n",
              "    <tr>\n",
              "      <th>1</th>\n",
              "      <td>tote</td>\n",
              "      <td>2</td>\n",
              "      <td>(01)00850027865010(21)0082T0219</td>\n",
              "      <td>DC 1</td>\n",
              "      <td>dock_doors_DC1</td>\n",
              "      <td>EC5B0499234F</td>\n",
              "      <td>2022-08-02 12:00:22.660</td>\n",
              "      <td>47.79158</td>\n",
              "      <td>-65.68902</td>\n",
              "      <td>23.0</td>\n",
              "      <td>73.4</td>\n",
              "      <td>2022-08-02</td>\n",
              "    </tr>\n",
              "    <tr>\n",
              "      <th>2</th>\n",
              "      <td>tote</td>\n",
              "      <td>2</td>\n",
              "      <td>(01)00850027865010(21)0082T0219</td>\n",
              "      <td>DC 1</td>\n",
              "      <td>dock_doors_DC1</td>\n",
              "      <td>7F9A8353E973</td>\n",
              "      <td>2022-08-02 12:01:11.234</td>\n",
              "      <td>47.79158</td>\n",
              "      <td>-65.68902</td>\n",
              "      <td>23.0</td>\n",
              "      <td>73.4</td>\n",
              "      <td>2022-08-02</td>\n",
              "    </tr>\n",
              "    <tr>\n",
              "      <th>3</th>\n",
              "      <td>tote</td>\n",
              "      <td>2</td>\n",
              "      <td>(01)00850027865010(21)0082T0219</td>\n",
              "      <td>DC 1</td>\n",
              "      <td>dock_doors_DC1</td>\n",
              "      <td>3D8B2BDB8673</td>\n",
              "      <td>2022-08-02 13:47:58.172</td>\n",
              "      <td>47.79158</td>\n",
              "      <td>-65.68902</td>\n",
              "      <td>23.5</td>\n",
              "      <td>74.3</td>\n",
              "      <td>2022-08-02</td>\n",
              "    </tr>\n",
              "    <tr>\n",
              "      <th>4</th>\n",
              "      <td>tote</td>\n",
              "      <td>2</td>\n",
              "      <td>(01)00850027865010(21)0082T0670</td>\n",
              "      <td>DC 1</td>\n",
              "      <td>dock_doors_DC1</td>\n",
              "      <td>7F9A8353E973</td>\n",
              "      <td>2022-08-02 11:58:55.049</td>\n",
              "      <td>47.79158</td>\n",
              "      <td>-65.68902</td>\n",
              "      <td>23.0</td>\n",
              "      <td>73.4</td>\n",
              "      <td>2022-08-02</td>\n",
              "    </tr>\n",
              "  </tbody>\n",
              "</table>\n",
              "</div>\n",
              "      <button class=\"colab-df-convert\" onclick=\"convertToInteractive('df-9e460a56-69f2-486b-b560-c817f921262c')\"\n",
              "              title=\"Convert this dataframe to an interactive table.\"\n",
              "              style=\"display:none;\">\n",
              "        \n",
              "  <svg xmlns=\"http://www.w3.org/2000/svg\" height=\"24px\"viewBox=\"0 0 24 24\"\n",
              "       width=\"24px\">\n",
              "    <path d=\"M0 0h24v24H0V0z\" fill=\"none\"/>\n",
              "    <path d=\"M18.56 5.44l.94 2.06.94-2.06 2.06-.94-2.06-.94-.94-2.06-.94 2.06-2.06.94zm-11 1L8.5 8.5l.94-2.06 2.06-.94-2.06-.94L8.5 2.5l-.94 2.06-2.06.94zm10 10l.94 2.06.94-2.06 2.06-.94-2.06-.94-.94-2.06-.94 2.06-2.06.94z\"/><path d=\"M17.41 7.96l-1.37-1.37c-.4-.4-.92-.59-1.43-.59-.52 0-1.04.2-1.43.59L10.3 9.45l-7.72 7.72c-.78.78-.78 2.05 0 2.83L4 21.41c.39.39.9.59 1.41.59.51 0 1.02-.2 1.41-.59l7.78-7.78 2.81-2.81c.8-.78.8-2.07 0-2.86zM5.41 20L4 18.59l7.72-7.72 1.47 1.35L5.41 20z\"/>\n",
              "  </svg>\n",
              "      </button>\n",
              "      \n",
              "  <style>\n",
              "    .colab-df-container {\n",
              "      display:flex;\n",
              "      flex-wrap:wrap;\n",
              "      gap: 12px;\n",
              "    }\n",
              "\n",
              "    .colab-df-convert {\n",
              "      background-color: #E8F0FE;\n",
              "      border: none;\n",
              "      border-radius: 50%;\n",
              "      cursor: pointer;\n",
              "      display: none;\n",
              "      fill: #1967D2;\n",
              "      height: 32px;\n",
              "      padding: 0 0 0 0;\n",
              "      width: 32px;\n",
              "    }\n",
              "\n",
              "    .colab-df-convert:hover {\n",
              "      background-color: #E2EBFA;\n",
              "      box-shadow: 0px 1px 2px rgba(60, 64, 67, 0.3), 0px 1px 3px 1px rgba(60, 64, 67, 0.15);\n",
              "      fill: #174EA6;\n",
              "    }\n",
              "\n",
              "    [theme=dark] .colab-df-convert {\n",
              "      background-color: #3B4455;\n",
              "      fill: #D2E3FC;\n",
              "    }\n",
              "\n",
              "    [theme=dark] .colab-df-convert:hover {\n",
              "      background-color: #434B5C;\n",
              "      box-shadow: 0px 1px 3px 1px rgba(0, 0, 0, 0.15);\n",
              "      filter: drop-shadow(0px 1px 2px rgba(0, 0, 0, 0.3));\n",
              "      fill: #FFFFFF;\n",
              "    }\n",
              "  </style>\n",
              "\n",
              "      <script>\n",
              "        const buttonEl =\n",
              "          document.querySelector('#df-9e460a56-69f2-486b-b560-c817f921262c button.colab-df-convert');\n",
              "        buttonEl.style.display =\n",
              "          google.colab.kernel.accessAllowed ? 'block' : 'none';\n",
              "\n",
              "        async function convertToInteractive(key) {\n",
              "          const element = document.querySelector('#df-9e460a56-69f2-486b-b560-c817f921262c');\n",
              "          const dataTable =\n",
              "            await google.colab.kernel.invokeFunction('convertToInteractive',\n",
              "                                                     [key], {});\n",
              "          if (!dataTable) return;\n",
              "\n",
              "          const docLinkHtml = 'Like what you see? Visit the ' +\n",
              "            '<a target=\"_blank\" href=https://colab.research.google.com/notebooks/data_table.ipynb>data table notebook</a>'\n",
              "            + ' to learn more about interactive tables.';\n",
              "          element.innerHTML = '';\n",
              "          dataTable['output_type'] = 'display_data';\n",
              "          await google.colab.output.renderOutput(dataTable, element);\n",
              "          const docLink = document.createElement('div');\n",
              "          docLink.innerHTML = docLinkHtml;\n",
              "          element.appendChild(docLink);\n",
              "        }\n",
              "      </script>\n",
              "    </div>\n",
              "  </div>\n",
              "  "
            ]
          },
          "metadata": {},
          "execution_count": 39
        }
      ]
    },
    {
      "cell_type": "code",
      "source": [
        "df['Time'] = pd.to_datetime(df['time_est']).dt.time\n",
        "df.head()"
      ],
      "metadata": {
        "colab": {
          "base_uri": "https://localhost:8080/",
          "height": 357
        },
        "id": "eLg5Nxh65eH6",
        "outputId": "5d641f0f-b30c-4963-cd8e-3d28eeeb3081"
      },
      "execution_count": 40,
      "outputs": [
        {
          "output_type": "execute_result",
          "data": {
            "text/plain": [
              "  asset_type  asset_id                           tag_id  Site            Zone  \\\n",
              "0       tote         2  (01)00850027865010(21)0082T0219  DC 1  dock_doors_DC1   \n",
              "1       tote         2  (01)00850027865010(21)0082T0219  DC 1  dock_doors_DC1   \n",
              "2       tote         2  (01)00850027865010(21)0082T0219  DC 1  dock_doors_DC1   \n",
              "3       tote         2  (01)00850027865010(21)0082T0219  DC 1  dock_doors_DC1   \n",
              "4       tote         2  (01)00850027865010(21)0082T0670  DC 1  dock_doors_DC1   \n",
              "\n",
              "      device_id                time_est       lat       lng  Temperature_C  \\\n",
              "0  7F9A8353E973 2022-08-02 11:59:26.628  47.79158 -65.68902           23.0   \n",
              "1  EC5B0499234F 2022-08-02 12:00:22.660  47.79158 -65.68902           23.0   \n",
              "2  7F9A8353E973 2022-08-02 12:01:11.234  47.79158 -65.68902           23.0   \n",
              "3  3D8B2BDB8673 2022-08-02 13:47:58.172  47.79158 -65.68902           23.5   \n",
              "4  7F9A8353E973 2022-08-02 11:58:55.049  47.79158 -65.68902           23.0   \n",
              "\n",
              "   Temperature_F       Fecha             Time  \n",
              "0           73.4  2022-08-02  11:59:26.628000  \n",
              "1           73.4  2022-08-02  12:00:22.660000  \n",
              "2           73.4  2022-08-02  12:01:11.234000  \n",
              "3           74.3  2022-08-02  13:47:58.172000  \n",
              "4           73.4  2022-08-02  11:58:55.049000  "
            ],
            "text/html": [
              "\n",
              "  <div id=\"df-ac955e0d-1be2-4deb-b3e7-854ec8f74bcf\">\n",
              "    <div class=\"colab-df-container\">\n",
              "      <div>\n",
              "<style scoped>\n",
              "    .dataframe tbody tr th:only-of-type {\n",
              "        vertical-align: middle;\n",
              "    }\n",
              "\n",
              "    .dataframe tbody tr th {\n",
              "        vertical-align: top;\n",
              "    }\n",
              "\n",
              "    .dataframe thead th {\n",
              "        text-align: right;\n",
              "    }\n",
              "</style>\n",
              "<table border=\"1\" class=\"dataframe\">\n",
              "  <thead>\n",
              "    <tr style=\"text-align: right;\">\n",
              "      <th></th>\n",
              "      <th>asset_type</th>\n",
              "      <th>asset_id</th>\n",
              "      <th>tag_id</th>\n",
              "      <th>Site</th>\n",
              "      <th>Zone</th>\n",
              "      <th>device_id</th>\n",
              "      <th>time_est</th>\n",
              "      <th>lat</th>\n",
              "      <th>lng</th>\n",
              "      <th>Temperature_C</th>\n",
              "      <th>Temperature_F</th>\n",
              "      <th>Fecha</th>\n",
              "      <th>Time</th>\n",
              "    </tr>\n",
              "  </thead>\n",
              "  <tbody>\n",
              "    <tr>\n",
              "      <th>0</th>\n",
              "      <td>tote</td>\n",
              "      <td>2</td>\n",
              "      <td>(01)00850027865010(21)0082T0219</td>\n",
              "      <td>DC 1</td>\n",
              "      <td>dock_doors_DC1</td>\n",
              "      <td>7F9A8353E973</td>\n",
              "      <td>2022-08-02 11:59:26.628</td>\n",
              "      <td>47.79158</td>\n",
              "      <td>-65.68902</td>\n",
              "      <td>23.0</td>\n",
              "      <td>73.4</td>\n",
              "      <td>2022-08-02</td>\n",
              "      <td>11:59:26.628000</td>\n",
              "    </tr>\n",
              "    <tr>\n",
              "      <th>1</th>\n",
              "      <td>tote</td>\n",
              "      <td>2</td>\n",
              "      <td>(01)00850027865010(21)0082T0219</td>\n",
              "      <td>DC 1</td>\n",
              "      <td>dock_doors_DC1</td>\n",
              "      <td>EC5B0499234F</td>\n",
              "      <td>2022-08-02 12:00:22.660</td>\n",
              "      <td>47.79158</td>\n",
              "      <td>-65.68902</td>\n",
              "      <td>23.0</td>\n",
              "      <td>73.4</td>\n",
              "      <td>2022-08-02</td>\n",
              "      <td>12:00:22.660000</td>\n",
              "    </tr>\n",
              "    <tr>\n",
              "      <th>2</th>\n",
              "      <td>tote</td>\n",
              "      <td>2</td>\n",
              "      <td>(01)00850027865010(21)0082T0219</td>\n",
              "      <td>DC 1</td>\n",
              "      <td>dock_doors_DC1</td>\n",
              "      <td>7F9A8353E973</td>\n",
              "      <td>2022-08-02 12:01:11.234</td>\n",
              "      <td>47.79158</td>\n",
              "      <td>-65.68902</td>\n",
              "      <td>23.0</td>\n",
              "      <td>73.4</td>\n",
              "      <td>2022-08-02</td>\n",
              "      <td>12:01:11.234000</td>\n",
              "    </tr>\n",
              "    <tr>\n",
              "      <th>3</th>\n",
              "      <td>tote</td>\n",
              "      <td>2</td>\n",
              "      <td>(01)00850027865010(21)0082T0219</td>\n",
              "      <td>DC 1</td>\n",
              "      <td>dock_doors_DC1</td>\n",
              "      <td>3D8B2BDB8673</td>\n",
              "      <td>2022-08-02 13:47:58.172</td>\n",
              "      <td>47.79158</td>\n",
              "      <td>-65.68902</td>\n",
              "      <td>23.5</td>\n",
              "      <td>74.3</td>\n",
              "      <td>2022-08-02</td>\n",
              "      <td>13:47:58.172000</td>\n",
              "    </tr>\n",
              "    <tr>\n",
              "      <th>4</th>\n",
              "      <td>tote</td>\n",
              "      <td>2</td>\n",
              "      <td>(01)00850027865010(21)0082T0670</td>\n",
              "      <td>DC 1</td>\n",
              "      <td>dock_doors_DC1</td>\n",
              "      <td>7F9A8353E973</td>\n",
              "      <td>2022-08-02 11:58:55.049</td>\n",
              "      <td>47.79158</td>\n",
              "      <td>-65.68902</td>\n",
              "      <td>23.0</td>\n",
              "      <td>73.4</td>\n",
              "      <td>2022-08-02</td>\n",
              "      <td>11:58:55.049000</td>\n",
              "    </tr>\n",
              "  </tbody>\n",
              "</table>\n",
              "</div>\n",
              "      <button class=\"colab-df-convert\" onclick=\"convertToInteractive('df-ac955e0d-1be2-4deb-b3e7-854ec8f74bcf')\"\n",
              "              title=\"Convert this dataframe to an interactive table.\"\n",
              "              style=\"display:none;\">\n",
              "        \n",
              "  <svg xmlns=\"http://www.w3.org/2000/svg\" height=\"24px\"viewBox=\"0 0 24 24\"\n",
              "       width=\"24px\">\n",
              "    <path d=\"M0 0h24v24H0V0z\" fill=\"none\"/>\n",
              "    <path d=\"M18.56 5.44l.94 2.06.94-2.06 2.06-.94-2.06-.94-.94-2.06-.94 2.06-2.06.94zm-11 1L8.5 8.5l.94-2.06 2.06-.94-2.06-.94L8.5 2.5l-.94 2.06-2.06.94zm10 10l.94 2.06.94-2.06 2.06-.94-2.06-.94-.94-2.06-.94 2.06-2.06.94z\"/><path d=\"M17.41 7.96l-1.37-1.37c-.4-.4-.92-.59-1.43-.59-.52 0-1.04.2-1.43.59L10.3 9.45l-7.72 7.72c-.78.78-.78 2.05 0 2.83L4 21.41c.39.39.9.59 1.41.59.51 0 1.02-.2 1.41-.59l7.78-7.78 2.81-2.81c.8-.78.8-2.07 0-2.86zM5.41 20L4 18.59l7.72-7.72 1.47 1.35L5.41 20z\"/>\n",
              "  </svg>\n",
              "      </button>\n",
              "      \n",
              "  <style>\n",
              "    .colab-df-container {\n",
              "      display:flex;\n",
              "      flex-wrap:wrap;\n",
              "      gap: 12px;\n",
              "    }\n",
              "\n",
              "    .colab-df-convert {\n",
              "      background-color: #E8F0FE;\n",
              "      border: none;\n",
              "      border-radius: 50%;\n",
              "      cursor: pointer;\n",
              "      display: none;\n",
              "      fill: #1967D2;\n",
              "      height: 32px;\n",
              "      padding: 0 0 0 0;\n",
              "      width: 32px;\n",
              "    }\n",
              "\n",
              "    .colab-df-convert:hover {\n",
              "      background-color: #E2EBFA;\n",
              "      box-shadow: 0px 1px 2px rgba(60, 64, 67, 0.3), 0px 1px 3px 1px rgba(60, 64, 67, 0.15);\n",
              "      fill: #174EA6;\n",
              "    }\n",
              "\n",
              "    [theme=dark] .colab-df-convert {\n",
              "      background-color: #3B4455;\n",
              "      fill: #D2E3FC;\n",
              "    }\n",
              "\n",
              "    [theme=dark] .colab-df-convert:hover {\n",
              "      background-color: #434B5C;\n",
              "      box-shadow: 0px 1px 3px 1px rgba(0, 0, 0, 0.15);\n",
              "      filter: drop-shadow(0px 1px 2px rgba(0, 0, 0, 0.3));\n",
              "      fill: #FFFFFF;\n",
              "    }\n",
              "  </style>\n",
              "\n",
              "      <script>\n",
              "        const buttonEl =\n",
              "          document.querySelector('#df-ac955e0d-1be2-4deb-b3e7-854ec8f74bcf button.colab-df-convert');\n",
              "        buttonEl.style.display =\n",
              "          google.colab.kernel.accessAllowed ? 'block' : 'none';\n",
              "\n",
              "        async function convertToInteractive(key) {\n",
              "          const element = document.querySelector('#df-ac955e0d-1be2-4deb-b3e7-854ec8f74bcf');\n",
              "          const dataTable =\n",
              "            await google.colab.kernel.invokeFunction('convertToInteractive',\n",
              "                                                     [key], {});\n",
              "          if (!dataTable) return;\n",
              "\n",
              "          const docLinkHtml = 'Like what you see? Visit the ' +\n",
              "            '<a target=\"_blank\" href=https://colab.research.google.com/notebooks/data_table.ipynb>data table notebook</a>'\n",
              "            + ' to learn more about interactive tables.';\n",
              "          element.innerHTML = '';\n",
              "          dataTable['output_type'] = 'display_data';\n",
              "          await google.colab.output.renderOutput(dataTable, element);\n",
              "          const docLink = document.createElement('div');\n",
              "          docLink.innerHTML = docLinkHtml;\n",
              "          element.appendChild(docLink);\n",
              "        }\n",
              "      </script>\n",
              "    </div>\n",
              "  </div>\n",
              "  "
            ]
          },
          "metadata": {},
          "execution_count": 40
        }
      ]
    },
    {
      "cell_type": "code",
      "execution_count": 47,
      "metadata": {
        "id": "dVuYYJMB2t_I",
        "colab": {
          "base_uri": "https://localhost:8080/",
          "height": 357
        },
        "outputId": "08008ad2-199c-4e2a-bcee-f30c5e2a8d61"
      },
      "outputs": [
        {
          "output_type": "execute_result",
          "data": {
            "text/plain": [
              "  asset_type  asset_id                           tag_id  Site            Zone  \\\n",
              "0       tote         2  (01)00850027865010(21)0082T0219  DC 1  dock_doors_DC1   \n",
              "1       tote         2  (01)00850027865010(21)0082T0219  DC 1  dock_doors_DC1   \n",
              "2       tote         2  (01)00850027865010(21)0082T0219  DC 1  dock_doors_DC1   \n",
              "3       tote         2  (01)00850027865010(21)0082T0219  DC 1  dock_doors_DC1   \n",
              "4       tote         2  (01)00850027865010(21)0082T0670  DC 1  dock_doors_DC1   \n",
              "\n",
              "      device_id                time_est       lat       lng  Temperature_C  \\\n",
              "0  7F9A8353E973 2022-08-02 11:59:26.628  47.79158 -65.68902           23.0   \n",
              "1  EC5B0499234F 2022-08-02 12:00:22.660  47.79158 -65.68902           23.0   \n",
              "2  7F9A8353E973 2022-08-02 12:01:11.234  47.79158 -65.68902           23.0   \n",
              "3  3D8B2BDB8673 2022-08-02 13:47:58.172  47.79158 -65.68902           23.5   \n",
              "4  7F9A8353E973 2022-08-02 11:58:55.049  47.79158 -65.68902           23.0   \n",
              "\n",
              "   Temperature_F       Fecha             Time  \n",
              "0           73.4  2022-08-02  11:59:26.628000  \n",
              "1           73.4  2022-08-02  12:00:22.660000  \n",
              "2           73.4  2022-08-02  12:01:11.234000  \n",
              "3           74.3  2022-08-02  13:47:58.172000  \n",
              "4           73.4  2022-08-02  11:58:55.049000  "
            ],
            "text/html": [
              "\n",
              "  <div id=\"df-db75c828-8ec4-47fa-815d-0fdd52a846d1\">\n",
              "    <div class=\"colab-df-container\">\n",
              "      <div>\n",
              "<style scoped>\n",
              "    .dataframe tbody tr th:only-of-type {\n",
              "        vertical-align: middle;\n",
              "    }\n",
              "\n",
              "    .dataframe tbody tr th {\n",
              "        vertical-align: top;\n",
              "    }\n",
              "\n",
              "    .dataframe thead th {\n",
              "        text-align: right;\n",
              "    }\n",
              "</style>\n",
              "<table border=\"1\" class=\"dataframe\">\n",
              "  <thead>\n",
              "    <tr style=\"text-align: right;\">\n",
              "      <th></th>\n",
              "      <th>asset_type</th>\n",
              "      <th>asset_id</th>\n",
              "      <th>tag_id</th>\n",
              "      <th>Site</th>\n",
              "      <th>Zone</th>\n",
              "      <th>device_id</th>\n",
              "      <th>time_est</th>\n",
              "      <th>lat</th>\n",
              "      <th>lng</th>\n",
              "      <th>Temperature_C</th>\n",
              "      <th>Temperature_F</th>\n",
              "      <th>Fecha</th>\n",
              "      <th>Time</th>\n",
              "    </tr>\n",
              "  </thead>\n",
              "  <tbody>\n",
              "    <tr>\n",
              "      <th>0</th>\n",
              "      <td>tote</td>\n",
              "      <td>2</td>\n",
              "      <td>(01)00850027865010(21)0082T0219</td>\n",
              "      <td>DC 1</td>\n",
              "      <td>dock_doors_DC1</td>\n",
              "      <td>7F9A8353E973</td>\n",
              "      <td>2022-08-02 11:59:26.628</td>\n",
              "      <td>47.79158</td>\n",
              "      <td>-65.68902</td>\n",
              "      <td>23.0</td>\n",
              "      <td>73.4</td>\n",
              "      <td>2022-08-02</td>\n",
              "      <td>11:59:26.628000</td>\n",
              "    </tr>\n",
              "    <tr>\n",
              "      <th>1</th>\n",
              "      <td>tote</td>\n",
              "      <td>2</td>\n",
              "      <td>(01)00850027865010(21)0082T0219</td>\n",
              "      <td>DC 1</td>\n",
              "      <td>dock_doors_DC1</td>\n",
              "      <td>EC5B0499234F</td>\n",
              "      <td>2022-08-02 12:00:22.660</td>\n",
              "      <td>47.79158</td>\n",
              "      <td>-65.68902</td>\n",
              "      <td>23.0</td>\n",
              "      <td>73.4</td>\n",
              "      <td>2022-08-02</td>\n",
              "      <td>12:00:22.660000</td>\n",
              "    </tr>\n",
              "    <tr>\n",
              "      <th>2</th>\n",
              "      <td>tote</td>\n",
              "      <td>2</td>\n",
              "      <td>(01)00850027865010(21)0082T0219</td>\n",
              "      <td>DC 1</td>\n",
              "      <td>dock_doors_DC1</td>\n",
              "      <td>7F9A8353E973</td>\n",
              "      <td>2022-08-02 12:01:11.234</td>\n",
              "      <td>47.79158</td>\n",
              "      <td>-65.68902</td>\n",
              "      <td>23.0</td>\n",
              "      <td>73.4</td>\n",
              "      <td>2022-08-02</td>\n",
              "      <td>12:01:11.234000</td>\n",
              "    </tr>\n",
              "    <tr>\n",
              "      <th>3</th>\n",
              "      <td>tote</td>\n",
              "      <td>2</td>\n",
              "      <td>(01)00850027865010(21)0082T0219</td>\n",
              "      <td>DC 1</td>\n",
              "      <td>dock_doors_DC1</td>\n",
              "      <td>3D8B2BDB8673</td>\n",
              "      <td>2022-08-02 13:47:58.172</td>\n",
              "      <td>47.79158</td>\n",
              "      <td>-65.68902</td>\n",
              "      <td>23.5</td>\n",
              "      <td>74.3</td>\n",
              "      <td>2022-08-02</td>\n",
              "      <td>13:47:58.172000</td>\n",
              "    </tr>\n",
              "    <tr>\n",
              "      <th>4</th>\n",
              "      <td>tote</td>\n",
              "      <td>2</td>\n",
              "      <td>(01)00850027865010(21)0082T0670</td>\n",
              "      <td>DC 1</td>\n",
              "      <td>dock_doors_DC1</td>\n",
              "      <td>7F9A8353E973</td>\n",
              "      <td>2022-08-02 11:58:55.049</td>\n",
              "      <td>47.79158</td>\n",
              "      <td>-65.68902</td>\n",
              "      <td>23.0</td>\n",
              "      <td>73.4</td>\n",
              "      <td>2022-08-02</td>\n",
              "      <td>11:58:55.049000</td>\n",
              "    </tr>\n",
              "  </tbody>\n",
              "</table>\n",
              "</div>\n",
              "      <button class=\"colab-df-convert\" onclick=\"convertToInteractive('df-db75c828-8ec4-47fa-815d-0fdd52a846d1')\"\n",
              "              title=\"Convert this dataframe to an interactive table.\"\n",
              "              style=\"display:none;\">\n",
              "        \n",
              "  <svg xmlns=\"http://www.w3.org/2000/svg\" height=\"24px\"viewBox=\"0 0 24 24\"\n",
              "       width=\"24px\">\n",
              "    <path d=\"M0 0h24v24H0V0z\" fill=\"none\"/>\n",
              "    <path d=\"M18.56 5.44l.94 2.06.94-2.06 2.06-.94-2.06-.94-.94-2.06-.94 2.06-2.06.94zm-11 1L8.5 8.5l.94-2.06 2.06-.94-2.06-.94L8.5 2.5l-.94 2.06-2.06.94zm10 10l.94 2.06.94-2.06 2.06-.94-2.06-.94-.94-2.06-.94 2.06-2.06.94z\"/><path d=\"M17.41 7.96l-1.37-1.37c-.4-.4-.92-.59-1.43-.59-.52 0-1.04.2-1.43.59L10.3 9.45l-7.72 7.72c-.78.78-.78 2.05 0 2.83L4 21.41c.39.39.9.59 1.41.59.51 0 1.02-.2 1.41-.59l7.78-7.78 2.81-2.81c.8-.78.8-2.07 0-2.86zM5.41 20L4 18.59l7.72-7.72 1.47 1.35L5.41 20z\"/>\n",
              "  </svg>\n",
              "      </button>\n",
              "      \n",
              "  <style>\n",
              "    .colab-df-container {\n",
              "      display:flex;\n",
              "      flex-wrap:wrap;\n",
              "      gap: 12px;\n",
              "    }\n",
              "\n",
              "    .colab-df-convert {\n",
              "      background-color: #E8F0FE;\n",
              "      border: none;\n",
              "      border-radius: 50%;\n",
              "      cursor: pointer;\n",
              "      display: none;\n",
              "      fill: #1967D2;\n",
              "      height: 32px;\n",
              "      padding: 0 0 0 0;\n",
              "      width: 32px;\n",
              "    }\n",
              "\n",
              "    .colab-df-convert:hover {\n",
              "      background-color: #E2EBFA;\n",
              "      box-shadow: 0px 1px 2px rgba(60, 64, 67, 0.3), 0px 1px 3px 1px rgba(60, 64, 67, 0.15);\n",
              "      fill: #174EA6;\n",
              "    }\n",
              "\n",
              "    [theme=dark] .colab-df-convert {\n",
              "      background-color: #3B4455;\n",
              "      fill: #D2E3FC;\n",
              "    }\n",
              "\n",
              "    [theme=dark] .colab-df-convert:hover {\n",
              "      background-color: #434B5C;\n",
              "      box-shadow: 0px 1px 3px 1px rgba(0, 0, 0, 0.15);\n",
              "      filter: drop-shadow(0px 1px 2px rgba(0, 0, 0, 0.3));\n",
              "      fill: #FFFFFF;\n",
              "    }\n",
              "  </style>\n",
              "\n",
              "      <script>\n",
              "        const buttonEl =\n",
              "          document.querySelector('#df-db75c828-8ec4-47fa-815d-0fdd52a846d1 button.colab-df-convert');\n",
              "        buttonEl.style.display =\n",
              "          google.colab.kernel.accessAllowed ? 'block' : 'none';\n",
              "\n",
              "        async function convertToInteractive(key) {\n",
              "          const element = document.querySelector('#df-db75c828-8ec4-47fa-815d-0fdd52a846d1');\n",
              "          const dataTable =\n",
              "            await google.colab.kernel.invokeFunction('convertToInteractive',\n",
              "                                                     [key], {});\n",
              "          if (!dataTable) return;\n",
              "\n",
              "          const docLinkHtml = 'Like what you see? Visit the ' +\n",
              "            '<a target=\"_blank\" href=https://colab.research.google.com/notebooks/data_table.ipynb>data table notebook</a>'\n",
              "            + ' to learn more about interactive tables.';\n",
              "          element.innerHTML = '';\n",
              "          dataTable['output_type'] = 'display_data';\n",
              "          await google.colab.output.renderOutput(dataTable, element);\n",
              "          const docLink = document.createElement('div');\n",
              "          docLink.innerHTML = docLinkHtml;\n",
              "          element.appendChild(docLink);\n",
              "        }\n",
              "      </script>\n",
              "    </div>\n",
              "  </div>\n",
              "  "
            ]
          },
          "metadata": {},
          "execution_count": 47
        }
      ],
      "source": [
        "df.head()"
      ]
    },
    {
      "cell_type": "code",
      "source": [
        "#Pending to check\n",
        "df.groupby(['Fecha', 'Time','Site', 'Zone']).asset_id.unique()"
      ],
      "metadata": {
        "colab": {
          "base_uri": "https://localhost:8080/"
        },
        "id": "SRvcjctV1ScW",
        "outputId": "5271eb8f-bfc4-49c4-ae3d-0d8a19d06229"
      },
      "execution_count": 48,
      "outputs": [
        {
          "output_type": "execute_result",
          "data": {
            "text/plain": [
              "Fecha       Time             Site   Zone               \n",
              "2022-08-02  10:14:54.326000  DC 1   Forklift1_DC1           [70]\n",
              "            10:15:38.860000  DC 1   pallet_assembly_DC1     [70]\n",
              "            10:17:23.366000  DC 1   staging_DC1             [37]\n",
              "            10:18:23.847000  DC 1   staging_DC1             [37]\n",
              "            10:20:43.706000  DC 1   dock_doors_DC1          [37]\n",
              "                                                           ...  \n",
              "2022-08-05  13:28:26.584000  Store  receiving_Store        [167]\n",
              "            13:28:27.564000  Store  receiving_Store        [200]\n",
              "            13:28:28.172000  Store  receiving_Store        [181]\n",
              "            13:28:28.576000  Store  receiving_Store         [59]\n",
              "            13:28:29.966000  Store  receiving_Store         [52]\n",
              "Name: asset_id, Length: 129914, dtype: object"
            ]
          },
          "metadata": {},
          "execution_count": 48
        }
      ]
    },
    {
      "cell_type": "code",
      "source": [
        "df_case = df[df.asset_id == 2]\n",
        "df_case"
      ],
      "metadata": {
        "colab": {
          "base_uri": "https://localhost:8080/",
          "height": 661
        },
        "id": "esdDfiCjCWPn",
        "outputId": "557cbc20-7722-477b-d612-817135e5a3a7"
      },
      "execution_count": 49,
      "outputs": [
        {
          "output_type": "execute_result",
          "data": {
            "text/plain": [
              "     asset_type  asset_id                           tag_id   Site  \\\n",
              "0          tote         2  (01)00850027865010(21)0082T0219   DC 1   \n",
              "1          tote         2  (01)00850027865010(21)0082T0219   DC 1   \n",
              "2          tote         2  (01)00850027865010(21)0082T0219   DC 1   \n",
              "3          tote         2  (01)00850027865010(21)0082T0219   DC 1   \n",
              "4          tote         2  (01)00850027865010(21)0082T0670   DC 1   \n",
              "...         ...       ...                              ...    ...   \n",
              "6764       tote         2  (01)00850027865010(21)0082T0670  Store   \n",
              "6765       tote         2  (01)00850027865010(21)0082T0670  Store   \n",
              "6766       tote         2  (01)00850027865010(21)0082T0670  Store   \n",
              "6767       tote         2  (01)00850027865010(21)0082T0670  Store   \n",
              "6768       tote         2  (01)00850027865010(21)0082T0670  Store   \n",
              "\n",
              "                   Zone     device_id                time_est        lat  \\\n",
              "0        dock_doors_DC1  7F9A8353E973 2022-08-02 11:59:26.628  47.791580   \n",
              "1        dock_doors_DC1  EC5B0499234F 2022-08-02 12:00:22.660  47.791580   \n",
              "2        dock_doors_DC1  7F9A8353E973 2022-08-02 12:01:11.234  47.791580   \n",
              "3        dock_doors_DC1  3D8B2BDB8673 2022-08-02 13:47:58.172  47.791580   \n",
              "4        dock_doors_DC1  7F9A8353E973 2022-08-02 11:58:55.049  47.791580   \n",
              "...                 ...           ...                     ...        ...   \n",
              "6764  store_front_Store  6AF833197EE3 2022-08-05 09:00:28.894  47.749230   \n",
              "6765  store_front_Store  6AF833197EE3 2022-08-05 09:00:50.535  47.749230   \n",
              "6766  store_front_Store  6AF833197EE3 2022-08-05 09:01:28.268  47.749230   \n",
              "6767  store_front_Store  6AF833197EE3 2022-08-05 09:02:57.199  47.749388   \n",
              "6768  store_front_Store  6AF833197EE3 2022-08-05 09:04:58.575  47.749230   \n",
              "\n",
              "            lng  Temperature_C  Temperature_F       Fecha             Time  \n",
              "0    -65.689020           23.0           73.4  2022-08-02  11:59:26.628000  \n",
              "1    -65.689020           23.0           73.4  2022-08-02  12:00:22.660000  \n",
              "2    -65.689020           23.0           73.4  2022-08-02  12:01:11.234000  \n",
              "3    -65.689020           23.5           74.3  2022-08-02  13:47:58.172000  \n",
              "4    -65.689020           23.0           73.4  2022-08-02  11:58:55.049000  \n",
              "...         ...            ...            ...         ...              ...  \n",
              "6764 -65.641010           22.0           71.6  2022-08-05  09:00:28.894000  \n",
              "6765 -65.641010           22.0           71.6  2022-08-05  09:00:50.535000  \n",
              "6766 -65.641010           22.0           71.6  2022-08-05  09:01:28.268000  \n",
              "6767 -65.640811           22.0           71.6  2022-08-05  09:02:57.199000  \n",
              "6768 -65.641010           22.0           71.6  2022-08-05  09:04:58.575000  \n",
              "\n",
              "[6769 rows x 13 columns]"
            ],
            "text/html": [
              "\n",
              "  <div id=\"df-273eb25a-f720-429b-84f2-8db5cce6c3a4\">\n",
              "    <div class=\"colab-df-container\">\n",
              "      <div>\n",
              "<style scoped>\n",
              "    .dataframe tbody tr th:only-of-type {\n",
              "        vertical-align: middle;\n",
              "    }\n",
              "\n",
              "    .dataframe tbody tr th {\n",
              "        vertical-align: top;\n",
              "    }\n",
              "\n",
              "    .dataframe thead th {\n",
              "        text-align: right;\n",
              "    }\n",
              "</style>\n",
              "<table border=\"1\" class=\"dataframe\">\n",
              "  <thead>\n",
              "    <tr style=\"text-align: right;\">\n",
              "      <th></th>\n",
              "      <th>asset_type</th>\n",
              "      <th>asset_id</th>\n",
              "      <th>tag_id</th>\n",
              "      <th>Site</th>\n",
              "      <th>Zone</th>\n",
              "      <th>device_id</th>\n",
              "      <th>time_est</th>\n",
              "      <th>lat</th>\n",
              "      <th>lng</th>\n",
              "      <th>Temperature_C</th>\n",
              "      <th>Temperature_F</th>\n",
              "      <th>Fecha</th>\n",
              "      <th>Time</th>\n",
              "    </tr>\n",
              "  </thead>\n",
              "  <tbody>\n",
              "    <tr>\n",
              "      <th>0</th>\n",
              "      <td>tote</td>\n",
              "      <td>2</td>\n",
              "      <td>(01)00850027865010(21)0082T0219</td>\n",
              "      <td>DC 1</td>\n",
              "      <td>dock_doors_DC1</td>\n",
              "      <td>7F9A8353E973</td>\n",
              "      <td>2022-08-02 11:59:26.628</td>\n",
              "      <td>47.791580</td>\n",
              "      <td>-65.689020</td>\n",
              "      <td>23.0</td>\n",
              "      <td>73.4</td>\n",
              "      <td>2022-08-02</td>\n",
              "      <td>11:59:26.628000</td>\n",
              "    </tr>\n",
              "    <tr>\n",
              "      <th>1</th>\n",
              "      <td>tote</td>\n",
              "      <td>2</td>\n",
              "      <td>(01)00850027865010(21)0082T0219</td>\n",
              "      <td>DC 1</td>\n",
              "      <td>dock_doors_DC1</td>\n",
              "      <td>EC5B0499234F</td>\n",
              "      <td>2022-08-02 12:00:22.660</td>\n",
              "      <td>47.791580</td>\n",
              "      <td>-65.689020</td>\n",
              "      <td>23.0</td>\n",
              "      <td>73.4</td>\n",
              "      <td>2022-08-02</td>\n",
              "      <td>12:00:22.660000</td>\n",
              "    </tr>\n",
              "    <tr>\n",
              "      <th>2</th>\n",
              "      <td>tote</td>\n",
              "      <td>2</td>\n",
              "      <td>(01)00850027865010(21)0082T0219</td>\n",
              "      <td>DC 1</td>\n",
              "      <td>dock_doors_DC1</td>\n",
              "      <td>7F9A8353E973</td>\n",
              "      <td>2022-08-02 12:01:11.234</td>\n",
              "      <td>47.791580</td>\n",
              "      <td>-65.689020</td>\n",
              "      <td>23.0</td>\n",
              "      <td>73.4</td>\n",
              "      <td>2022-08-02</td>\n",
              "      <td>12:01:11.234000</td>\n",
              "    </tr>\n",
              "    <tr>\n",
              "      <th>3</th>\n",
              "      <td>tote</td>\n",
              "      <td>2</td>\n",
              "      <td>(01)00850027865010(21)0082T0219</td>\n",
              "      <td>DC 1</td>\n",
              "      <td>dock_doors_DC1</td>\n",
              "      <td>3D8B2BDB8673</td>\n",
              "      <td>2022-08-02 13:47:58.172</td>\n",
              "      <td>47.791580</td>\n",
              "      <td>-65.689020</td>\n",
              "      <td>23.5</td>\n",
              "      <td>74.3</td>\n",
              "      <td>2022-08-02</td>\n",
              "      <td>13:47:58.172000</td>\n",
              "    </tr>\n",
              "    <tr>\n",
              "      <th>4</th>\n",
              "      <td>tote</td>\n",
              "      <td>2</td>\n",
              "      <td>(01)00850027865010(21)0082T0670</td>\n",
              "      <td>DC 1</td>\n",
              "      <td>dock_doors_DC1</td>\n",
              "      <td>7F9A8353E973</td>\n",
              "      <td>2022-08-02 11:58:55.049</td>\n",
              "      <td>47.791580</td>\n",
              "      <td>-65.689020</td>\n",
              "      <td>23.0</td>\n",
              "      <td>73.4</td>\n",
              "      <td>2022-08-02</td>\n",
              "      <td>11:58:55.049000</td>\n",
              "    </tr>\n",
              "    <tr>\n",
              "      <th>...</th>\n",
              "      <td>...</td>\n",
              "      <td>...</td>\n",
              "      <td>...</td>\n",
              "      <td>...</td>\n",
              "      <td>...</td>\n",
              "      <td>...</td>\n",
              "      <td>...</td>\n",
              "      <td>...</td>\n",
              "      <td>...</td>\n",
              "      <td>...</td>\n",
              "      <td>...</td>\n",
              "      <td>...</td>\n",
              "      <td>...</td>\n",
              "    </tr>\n",
              "    <tr>\n",
              "      <th>6764</th>\n",
              "      <td>tote</td>\n",
              "      <td>2</td>\n",
              "      <td>(01)00850027865010(21)0082T0670</td>\n",
              "      <td>Store</td>\n",
              "      <td>store_front_Store</td>\n",
              "      <td>6AF833197EE3</td>\n",
              "      <td>2022-08-05 09:00:28.894</td>\n",
              "      <td>47.749230</td>\n",
              "      <td>-65.641010</td>\n",
              "      <td>22.0</td>\n",
              "      <td>71.6</td>\n",
              "      <td>2022-08-05</td>\n",
              "      <td>09:00:28.894000</td>\n",
              "    </tr>\n",
              "    <tr>\n",
              "      <th>6765</th>\n",
              "      <td>tote</td>\n",
              "      <td>2</td>\n",
              "      <td>(01)00850027865010(21)0082T0670</td>\n",
              "      <td>Store</td>\n",
              "      <td>store_front_Store</td>\n",
              "      <td>6AF833197EE3</td>\n",
              "      <td>2022-08-05 09:00:50.535</td>\n",
              "      <td>47.749230</td>\n",
              "      <td>-65.641010</td>\n",
              "      <td>22.0</td>\n",
              "      <td>71.6</td>\n",
              "      <td>2022-08-05</td>\n",
              "      <td>09:00:50.535000</td>\n",
              "    </tr>\n",
              "    <tr>\n",
              "      <th>6766</th>\n",
              "      <td>tote</td>\n",
              "      <td>2</td>\n",
              "      <td>(01)00850027865010(21)0082T0670</td>\n",
              "      <td>Store</td>\n",
              "      <td>store_front_Store</td>\n",
              "      <td>6AF833197EE3</td>\n",
              "      <td>2022-08-05 09:01:28.268</td>\n",
              "      <td>47.749230</td>\n",
              "      <td>-65.641010</td>\n",
              "      <td>22.0</td>\n",
              "      <td>71.6</td>\n",
              "      <td>2022-08-05</td>\n",
              "      <td>09:01:28.268000</td>\n",
              "    </tr>\n",
              "    <tr>\n",
              "      <th>6767</th>\n",
              "      <td>tote</td>\n",
              "      <td>2</td>\n",
              "      <td>(01)00850027865010(21)0082T0670</td>\n",
              "      <td>Store</td>\n",
              "      <td>store_front_Store</td>\n",
              "      <td>6AF833197EE3</td>\n",
              "      <td>2022-08-05 09:02:57.199</td>\n",
              "      <td>47.749388</td>\n",
              "      <td>-65.640811</td>\n",
              "      <td>22.0</td>\n",
              "      <td>71.6</td>\n",
              "      <td>2022-08-05</td>\n",
              "      <td>09:02:57.199000</td>\n",
              "    </tr>\n",
              "    <tr>\n",
              "      <th>6768</th>\n",
              "      <td>tote</td>\n",
              "      <td>2</td>\n",
              "      <td>(01)00850027865010(21)0082T0670</td>\n",
              "      <td>Store</td>\n",
              "      <td>store_front_Store</td>\n",
              "      <td>6AF833197EE3</td>\n",
              "      <td>2022-08-05 09:04:58.575</td>\n",
              "      <td>47.749230</td>\n",
              "      <td>-65.641010</td>\n",
              "      <td>22.0</td>\n",
              "      <td>71.6</td>\n",
              "      <td>2022-08-05</td>\n",
              "      <td>09:04:58.575000</td>\n",
              "    </tr>\n",
              "  </tbody>\n",
              "</table>\n",
              "<p>6769 rows × 13 columns</p>\n",
              "</div>\n",
              "      <button class=\"colab-df-convert\" onclick=\"convertToInteractive('df-273eb25a-f720-429b-84f2-8db5cce6c3a4')\"\n",
              "              title=\"Convert this dataframe to an interactive table.\"\n",
              "              style=\"display:none;\">\n",
              "        \n",
              "  <svg xmlns=\"http://www.w3.org/2000/svg\" height=\"24px\"viewBox=\"0 0 24 24\"\n",
              "       width=\"24px\">\n",
              "    <path d=\"M0 0h24v24H0V0z\" fill=\"none\"/>\n",
              "    <path d=\"M18.56 5.44l.94 2.06.94-2.06 2.06-.94-2.06-.94-.94-2.06-.94 2.06-2.06.94zm-11 1L8.5 8.5l.94-2.06 2.06-.94-2.06-.94L8.5 2.5l-.94 2.06-2.06.94zm10 10l.94 2.06.94-2.06 2.06-.94-2.06-.94-.94-2.06-.94 2.06-2.06.94z\"/><path d=\"M17.41 7.96l-1.37-1.37c-.4-.4-.92-.59-1.43-.59-.52 0-1.04.2-1.43.59L10.3 9.45l-7.72 7.72c-.78.78-.78 2.05 0 2.83L4 21.41c.39.39.9.59 1.41.59.51 0 1.02-.2 1.41-.59l7.78-7.78 2.81-2.81c.8-.78.8-2.07 0-2.86zM5.41 20L4 18.59l7.72-7.72 1.47 1.35L5.41 20z\"/>\n",
              "  </svg>\n",
              "      </button>\n",
              "      \n",
              "  <style>\n",
              "    .colab-df-container {\n",
              "      display:flex;\n",
              "      flex-wrap:wrap;\n",
              "      gap: 12px;\n",
              "    }\n",
              "\n",
              "    .colab-df-convert {\n",
              "      background-color: #E8F0FE;\n",
              "      border: none;\n",
              "      border-radius: 50%;\n",
              "      cursor: pointer;\n",
              "      display: none;\n",
              "      fill: #1967D2;\n",
              "      height: 32px;\n",
              "      padding: 0 0 0 0;\n",
              "      width: 32px;\n",
              "    }\n",
              "\n",
              "    .colab-df-convert:hover {\n",
              "      background-color: #E2EBFA;\n",
              "      box-shadow: 0px 1px 2px rgba(60, 64, 67, 0.3), 0px 1px 3px 1px rgba(60, 64, 67, 0.15);\n",
              "      fill: #174EA6;\n",
              "    }\n",
              "\n",
              "    [theme=dark] .colab-df-convert {\n",
              "      background-color: #3B4455;\n",
              "      fill: #D2E3FC;\n",
              "    }\n",
              "\n",
              "    [theme=dark] .colab-df-convert:hover {\n",
              "      background-color: #434B5C;\n",
              "      box-shadow: 0px 1px 3px 1px rgba(0, 0, 0, 0.15);\n",
              "      filter: drop-shadow(0px 1px 2px rgba(0, 0, 0, 0.3));\n",
              "      fill: #FFFFFF;\n",
              "    }\n",
              "  </style>\n",
              "\n",
              "      <script>\n",
              "        const buttonEl =\n",
              "          document.querySelector('#df-273eb25a-f720-429b-84f2-8db5cce6c3a4 button.colab-df-convert');\n",
              "        buttonEl.style.display =\n",
              "          google.colab.kernel.accessAllowed ? 'block' : 'none';\n",
              "\n",
              "        async function convertToInteractive(key) {\n",
              "          const element = document.querySelector('#df-273eb25a-f720-429b-84f2-8db5cce6c3a4');\n",
              "          const dataTable =\n",
              "            await google.colab.kernel.invokeFunction('convertToInteractive',\n",
              "                                                     [key], {});\n",
              "          if (!dataTable) return;\n",
              "\n",
              "          const docLinkHtml = 'Like what you see? Visit the ' +\n",
              "            '<a target=\"_blank\" href=https://colab.research.google.com/notebooks/data_table.ipynb>data table notebook</a>'\n",
              "            + ' to learn more about interactive tables.';\n",
              "          element.innerHTML = '';\n",
              "          dataTable['output_type'] = 'display_data';\n",
              "          await google.colab.output.renderOutput(dataTable, element);\n",
              "          const docLink = document.createElement('div');\n",
              "          docLink.innerHTML = docLinkHtml;\n",
              "          element.appendChild(docLink);\n",
              "        }\n",
              "      </script>\n",
              "    </div>\n",
              "  </div>\n",
              "  "
            ]
          },
          "metadata": {},
          "execution_count": 49
        }
      ]
    },
    {
      "cell_type": "code",
      "source": [
        "df_case.groupby(['Fecha','Time','Site', 'Zone']).asset_id.unique()"
      ],
      "metadata": {
        "colab": {
          "base_uri": "https://localhost:8080/"
        },
        "id": "rO6gTmGgCs0z",
        "outputId": "081ede93-90ba-485c-95fb-fb95e20803a1"
      },
      "execution_count": 50,
      "outputs": [
        {
          "output_type": "execute_result",
          "data": {
            "text/plain": [
              "Fecha       Time             Site   Zone               \n",
              "2022-08-02  10:59:58.887000  DC 1   pallet_assembly_DC1    [2]\n",
              "            11:00:27.633000  DC 1   pallet_assembly_DC1    [2]\n",
              "            11:16:33.564000  DC 1   pallet_assembly_DC1    [2]\n",
              "            11:17:25.682000  DC 1   pallet_assembly_DC1    [2]\n",
              "            11:18:11.883000  DC 1   pallet_assembly_DC1    [2]\n",
              "                                                          ... \n",
              "2022-08-05  13:26:39.605000  Store  receiving_Store        [2]\n",
              "            13:27:15.800000  Store  receiving_Store        [2]\n",
              "            13:27:37.625000  Store  receiving_Store        [2]\n",
              "            13:28:16.376000  Store  receiving_Store        [2]\n",
              "            13:28:24.536000  Store  receiving_Store        [2]\n",
              "Name: asset_id, Length: 6769, dtype: object"
            ]
          },
          "metadata": {},
          "execution_count": 50
        }
      ]
    },
    {
      "cell_type": "code",
      "source": [],
      "metadata": {
        "id": "A5kyzecrDCH0"
      },
      "execution_count": null,
      "outputs": []
    },
    {
      "cell_type": "markdown",
      "metadata": {
        "id": "n7nBbEZ42vvP"
      },
      "source": [
        "### Question 4:\n",
        "\n",
        "* Visualize how the temperatue changes over time along its journey.  Imagine that this would be included in your presentation to the customer. (Non techical audience) (4 pts)\n",
        "\n"
      ]
    },
    {
      "cell_type": "code",
      "execution_count": null,
      "metadata": {
        "id": "rZ6EgZDa3YCv",
        "colab": {
          "base_uri": "https://localhost:8080/"
        },
        "outputId": "8fdae046-7342-407b-d622-6bc392d0c12a"
      },
      "outputs": [
        {
          "output_type": "execute_result",
          "data": {
            "text/plain": [
              "<pandas.core.groupby.generic.DataFrameGroupBy object at 0x7f7d70e06bc0>"
            ]
          },
          "metadata": {},
          "execution_count": 42
        }
      ],
      "source": [
        "# YOUR CODE HERE:\n",
        "df_1 = df.groupby(['Site'])#['Temperature_C']\n",
        "#df_1.head()"
      ]
    },
    {
      "cell_type": "markdown",
      "metadata": {
        "id": "jq6sZbij4n5g"
      },
      "source": [
        "### Question 5:\n",
        "* Visualize the lon lat data on a map to show how the case traveled.  You may incorporate any other additional information to make this more impactful. Imagine that this would be included in your presentation to the customer. (Non techical audience) (5 pts)\n",
        "\n",
        "**Do not worry if this looks like non-sense on a map.  Ex:  The trip may appear to occur over water or in a forest because this is a toy dataset.**"
      ]
    },
    {
      "cell_type": "code",
      "execution_count": null,
      "metadata": {
        "id": "S0NrgqkM5a3m"
      },
      "outputs": [],
      "source": [
        "# YOUR CODE HERE:"
      ]
    },
    {
      "cell_type": "markdown",
      "metadata": {
        "id": "V5nvTftA3IrL"
      },
      "source": [
        "# Part 3: Customer Questions\n"
      ]
    },
    {
      "cell_type": "markdown",
      "metadata": {
        "id": "RLBee4li3gZ5"
      },
      "source": [
        "### Question 6:\n",
        "\n",
        "The customer wants to understand the efficieny of ther DC operations.\n",
        "* Based on what you see in the data, (all zones except for STORE), which parts of their operation are most & least \"efficient? (10 pts)"
      ]
    },
    {
      "cell_type": "code",
      "execution_count": null,
      "metadata": {
        "id": "9Ad7Wwa23HzQ"
      },
      "outputs": [],
      "source": [
        "# YOUR CODE HERE"
      ]
    },
    {
      "cell_type": "markdown",
      "metadata": {
        "id": "KxsNLU4u4CT9"
      },
      "source": [
        "YOUR TEXT ANSWER HERE"
      ]
    },
    {
      "cell_type": "markdown",
      "metadata": {
        "id": "BAR8MQnp4KhD"
      },
      "source": [
        "### Question 7:\n",
        "\n",
        "The customer wants to understand the stocking efficiency in stores.\n",
        "* Based on what you see in the data, how quickly did the store unload and stock the merchandise. (5 pts)\n",
        "* How could this be converted in a KPI that a regional manager could track?  (5 pts)"
      ]
    },
    {
      "cell_type": "code",
      "execution_count": null,
      "metadata": {
        "id": "6yLtvhHB4ECp"
      },
      "outputs": [],
      "source": [
        "# YOUR CODE HERE"
      ]
    },
    {
      "cell_type": "markdown",
      "metadata": {
        "id": "FrFLqjpC51rd"
      },
      "source": [
        "YOUR TEXT ANSWER HERE"
      ]
    },
    {
      "cell_type": "markdown",
      "metadata": {
        "id": "YY5cXCAlzX9M"
      },
      "source": [
        "### Question 8:\n",
        "\n",
        "Please explain what you would ask for and what you will do with this data, given that you can talk with the following people (no code needed):\n"
      ]
    },
    {
      "cell_type": "markdown",
      "metadata": {
        "id": "CsSJ9f2fzX9M"
      },
      "source": [
        "YOUR TEXT ANSWER HERE\n",
        "* a. X\n",
        "* b. Y"
      ]
    },
    {
      "cell_type": "markdown",
      "metadata": {
        "id": "U-xbReWjr-_B"
      },
      "source": [
        "## Part 4: Bonus Insights"
      ]
    },
    {
      "cell_type": "markdown",
      "metadata": {
        "id": "XslflGXnsDAF"
      },
      "source": [
        "### Question 8\n",
        "\n",
        "The customer is open to hearing about additional insights you found in the data above and beyond what they asked for.\n",
        "* Based on what you can see in the data, are there any other interesting insights that the customer may want to hear about? (Up to 15 bonus points) \n",
        "\n"
      ]
    },
    {
      "cell_type": "code",
      "execution_count": null,
      "metadata": {
        "id": "CWpCSu8lsCJL"
      },
      "outputs": [],
      "source": [
        "# YOUR CODE HERE\n",
        "# Another metrics that could be interesting would be temperature by time"
      ]
    },
    {
      "cell_type": "markdown",
      "metadata": {
        "id": "EbkD8dTBuuj4"
      },
      "source": [
        "YOUR TEXT ANSWER HERE\n"
      ]
    }
  ],
  "metadata": {
    "colab": {
      "provenance": [],
      "include_colab_link": true
    },
    "kernelspec": {
      "display_name": "Python 3.10.5 64-bit",
      "language": "python",
      "name": "python3"
    },
    "language_info": {
      "codemirror_mode": {
        "name": "ipython",
        "version": 3
      },
      "file_extension": ".py",
      "mimetype": "text/x-python",
      "name": "python",
      "nbconvert_exporter": "python",
      "pygments_lexer": "ipython3",
      "version": "3.10.5"
    },
    "vscode": {
      "interpreter": {
        "hash": "aee8b7b246df8f9039afb4144a1f6fd8d2ca17a180786b69acc140d282b71a49"
      }
    }
  },
  "nbformat": 4,
  "nbformat_minor": 0
}